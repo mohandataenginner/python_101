{
 "cells": [
  {
   "cell_type": "markdown",
   "metadata": {
    "application/vnd.databricks.v1+cell": {
     "cellMetadata": {},
     "inputWidgets": {},
     "nuid": "448038c2-5159-404e-8428-419d11df2c8b",
     "showTitle": false,
     "title": ""
    }
   },
   "source": [
    "Write a program to convert kg to g. (Input 56kg print in grams)"
   ]
  },
  {
   "cell_type": "code",
   "execution_count": 0,
   "metadata": {
    "application/vnd.databricks.v1+cell": {
     "cellMetadata": {
      "byteLimit": 2048000,
      "rowLimit": 10000
     },
     "inputWidgets": {},
     "nuid": "2389aa99-6a80-4a0d-b82a-c7ebc5c9870d",
     "showTitle": false,
     "title": ""
    }
   },
   "outputs": [
    {
     "output_type": "display_data",
     "data": {
      "text/plain": [
       "Enter the KG Value 20"
      ]
     },
     "metadata": {},
     "output_type": "display_data"
    },
    {
     "output_type": "stream",
     "name": "stdout",
     "output_type": "stream",
     "text": [
      "The gram value is =  20000\n"
     ]
    }
   ],
   "source": [
    "a = int(input(\"Enter the KG Value\"))\n",
    "\n",
    "b  = a*1000\n",
    "\n",
    "print(\"The gram value is = \" , b)"
   ]
  },
  {
   "cell_type": "markdown",
   "metadata": {
    "application/vnd.databricks.v1+cell": {
     "cellMetadata": {},
     "inputWidgets": {},
     "nuid": "94a9ef9b-a90f-46f5-92ad-356400879430",
     "showTitle": false,
     "title": ""
    }
   },
   "source": [
    "Write a program to covert temperature from degree C to F. (Input 80C)"
   ]
  },
  {
   "cell_type": "code",
   "execution_count": 0,
   "metadata": {
    "application/vnd.databricks.v1+cell": {
     "cellMetadata": {
      "byteLimit": 2048000,
      "rowLimit": 10000
     },
     "inputWidgets": {},
     "nuid": "ff8d239a-cc28-44da-ba9d-6df0440afa3b",
     "showTitle": false,
     "title": ""
    }
   },
   "outputs": [
    {
     "output_type": "display_data",
     "data": {
      "text/plain": [
       "Enter tempeature in celsius 20"
      ]
     },
     "metadata": {},
     "output_type": "display_data"
    },
    {
     "output_type": "stream",
     "name": "stdout",
     "output_type": "stream",
     "text": [
      "Temperature in celsius =  20\nTemperatue in  fahrenheit =  68.0\n"
     ]
    }
   ],
   "source": [
    "temp_ce = int(input(\"Enter tempeature in celsius\"))\n",
    "\n",
    "f = (temp_ce *9/5)+32\n",
    "print(\"Temperature in celsius = \" ,temp_ce)\n",
    "print(\"Temperatue in  fahrenheit = \" ,f)"
   ]
  },
  {
   "cell_type": "code",
   "execution_count": 0,
   "metadata": {
    "application/vnd.databricks.v1+cell": {
     "cellMetadata": {
      "byteLimit": 2048000,
      "rowLimit": 10000
     },
     "inputWidgets": {},
     "nuid": "9094c000-9427-47b2-aba7-df13610b1448",
     "showTitle": false,
     "title": ""
    }
   },
   "outputs": [
    {
     "output_type": "display_data",
     "data": {
      "text/plain": [
       "Enter the first number 2"
      ]
     },
     "metadata": {},
     "output_type": "display_data"
    },
    {
     "output_type": "display_data",
     "data": {
      "text/plain": [
       "Enter the second number 4"
      ]
     },
     "metadata": {},
     "output_type": "display_data"
    },
    {
     "output_type": "display_data",
     "data": {
      "text/plain": [
       "Enter the Third number 6"
      ]
     },
     "metadata": {},
     "output_type": "display_data"
    },
    {
     "output_type": "stream",
     "name": "stdout",
     "output_type": "stream",
     "text": [
      "First number A =  2\nsecond number B =  4\nThird number c =  6\nC is biggest number\n"
     ]
    }
   ],
   "source": [
    "a = int(input(\"Enter the first number\"))\n",
    "b = int(input(\"Enter the second number\"))\n",
    "c = int(input(\"Enter the Third number\"))\n",
    "\n",
    "print(\"First number A = \",a)\n",
    "print(\"second number B = \",b)\n",
    "print(\"Third number c = \",c)\n",
    "\n",
    "if a>b and a>c:\n",
    "    print(\"A is biggest number\")\n",
    "elif b>c and b>c:\n",
    "    print(\"B is biggest number\")\n",
    "else:\n",
    "    print(\"C is biggest number\")"
   ]
  },
  {
   "cell_type": "markdown",
   "metadata": {
    "application/vnd.databricks.v1+cell": {
     "cellMetadata": {},
     "inputWidgets": {},
     "nuid": "2935e534-c653-4a66-90e7-4a577ac82ead",
     "showTitle": false,
     "title": ""
    }
   },
   "source": [
    "Write a java program that performs the following tasks.\n",
    "a. Store a number in a variable\n",
    "b. If value is not in range (100-1000) prints wrong number else follows\n",
    "the steps\n",
    "c. Check even or odd\n",
    "d. If even divide the number by 3 and print the remainder\n",
    "e. If odd divide the number by 2 and print the remainder"
   ]
  },
  {
   "cell_type": "code",
   "execution_count": 0,
   "metadata": {
    "application/vnd.databricks.v1+cell": {
     "cellMetadata": {
      "byteLimit": 2048000,
      "rowLimit": 10000
     },
     "inputWidgets": {},
     "nuid": "558f2881-53b9-4bb7-af09-54f62671afc5",
     "showTitle": false,
     "title": ""
    }
   },
   "outputs": [
    {
     "output_type": "display_data",
     "data": {
      "text/plain": [
       "Enter the number 999"
      ]
     },
     "metadata": {},
     "output_type": "display_data"
    },
    {
     "output_type": "stream",
     "name": "stdout",
     "output_type": "stream",
     "text": [
      "the number is odd reminder is  1\n"
     ]
    }
   ],
   "source": [
    "a = int(input(\"Enter the number\"))\n",
    "\n",
    "if a>100 and a>1000:\n",
    "    print(\"Number is not in range\")\n",
    "elif a%2==0:\n",
    "    print(\"the number is even reminder is \",a%3)\n",
    "elif a%2!=0:\n",
    "    print(\"the number is odd reminder is \",a%2)\n"
   ]
  },
  {
   "cell_type": "markdown",
   "metadata": {
    "application/vnd.databricks.v1+cell": {
     "cellMetadata": {},
     "inputWidgets": {},
     "nuid": "4f2a97f4-3896-45cf-8ac4-c48698047f04",
     "showTitle": false,
     "title": ""
    }
   },
   "source": [
    "Declare & initialize a number. Check whether the number is in range 0-100\n",
    "or not. If not in range print invalid input. Else – if the number is in range 90-\n",
    "100 then print Super Smart, 80-90 print Smart,70-80 print smart enough,\n",
    "60-70 print just smart, 35-60 print no smart, 0-35 print dump"
   ]
  },
  {
   "cell_type": "code",
   "execution_count": 0,
   "metadata": {
    "application/vnd.databricks.v1+cell": {
     "cellMetadata": {
      "byteLimit": 2048000,
      "rowLimit": 10000
     },
     "inputWidgets": {},
     "nuid": "516e69b4-62b5-4cd9-bb8d-638aaf16984e",
     "showTitle": false,
     "title": ""
    }
   },
   "outputs": [
    {
     "output_type": "display_data",
     "data": {
      "text/plain": [
       "Enter the student IQ level 80"
      ]
     },
     "metadata": {},
     "output_type": "display_data"
    },
    {
     "output_type": "stream",
     "name": "stdout",
     "output_type": "stream",
     "text": [
      "The student is super smart\n"
     ]
    }
   ],
   "source": [
    "iq =int(input(\"Enter the student IQ level\"))\n",
    "\n",
    "if iq>0 and iq>100:\n",
    "    print(\"Invalid input\")\n",
    "elif iq>90 or iq<100:\n",
    "    print(\"The student is super smart\")\n",
    "elif iq>80 and iq<90:\n",
    "    print(\"The student is  smart\")\n",
    "elif iq>70 and iq<60:\n",
    "    print(\"The student is  smart enough\")\n",
    "elif iq>60 and iq<70:\n",
    "    print(\"The student is  just smart\")\n",
    "elif iq>35 and iq<60:\n",
    "    print(\"The student is  no smart\")\n",
    "else:\n",
    "    print(\"This student is dump\")\n"
   ]
  },
  {
   "cell_type": "markdown",
   "metadata": {
    "application/vnd.databricks.v1+cell": {
     "cellMetadata": {},
     "inputWidgets": {},
     "nuid": "6622df68-5322-4f7c-b4b7-9c190c384329",
     "showTitle": false,
     "title": ""
    }
   },
   "source": [
    "Write a program to perform simple math based on the user inputs by using\n",
    "Switch condition.(+ , - , * , /)"
   ]
  },
  {
   "cell_type": "code",
   "execution_count": 0,
   "metadata": {
    "application/vnd.databricks.v1+cell": {
     "cellMetadata": {
      "byteLimit": 2048000,
      "rowLimit": 10000
     },
     "inputWidgets": {},
     "nuid": "75e50c0d-6bf6-42f0-8074-542cc7517d3e",
     "showTitle": false,
     "title": ""
    }
   },
   "outputs": [
    {
     "output_type": "display_data",
     "data": {
      "text/plain": [
       "Enter the first number =  10"
      ]
     },
     "metadata": {},
     "output_type": "display_data"
    },
    {
     "output_type": "display_data",
     "data": {
      "text/plain": [
       "Enter the second number =  5"
      ]
     },
     "metadata": {},
     "output_type": "display_data"
    },
    {
     "output_type": "display_data",
     "data": {
      "text/plain": [
       "Enter the operation line ,+,-,/,* =  +"
      ]
     },
     "metadata": {},
     "output_type": "display_data"
    },
    {
     "output_type": "stream",
     "name": "stdout",
     "output_type": "stream",
     "text": [
      "The sum of two number is = 15\n"
     ]
    }
   ],
   "source": [
    "a  = int(input(\"Enter the first number = \"))\n",
    "b  = int(input(\"Enter the second number = \"))\n",
    "operation  = input(\"Enter the operation line ,+,-,/,* = \")\n",
    "\n",
    "if operation =='+':\n",
    "    print(\"The sum of two number is =\",a+b)\n",
    "elif operation =\"-\":\n",
    "    print(\"The substraction of two numbers is =\",a-b)\n",
    "elif operation ==\"*\":\n",
    "    print(\"The multiplication of twi number is =\",a*b)\n",
    "elif operation =='/':\n",
    "    print(\"The division of two number is =\",a/b)\n",
    "else:\n",
    "    print(\"invalid operation\")"
   ]
  },
  {
   "cell_type": "markdown",
   "metadata": {
    "application/vnd.databricks.v1+cell": {
     "cellMetadata": {},
     "inputWidgets": {},
     "nuid": "c3cb16cc-9011-4787-ad9f-0a07ad99df28",
     "showTitle": false,
     "title": ""
    }
   },
   "source": [
    "7. Write a program to print “SEEKHO BIGDATA”for 60 times"
   ]
  },
  {
   "cell_type": "code",
   "execution_count": 0,
   "metadata": {
    "application/vnd.databricks.v1+cell": {
     "cellMetadata": {
      "byteLimit": 2048000,
      "rowLimit": 10000
     },
     "inputWidgets": {},
     "nuid": "82251059-47c7-459d-ad48-baa015b36dd2",
     "showTitle": false,
     "title": ""
    }
   },
   "outputs": [
    {
     "output_type": "stream",
     "name": "stdout",
     "output_type": "stream",
     "text": [
      "SEEKHO BIGDATASEEKHO BIGDATASEEKHO BIGDATASEEKHO BIGDATASEEKHO BIGDATASEEKHO BIGDATASEEKHO BIGDATASEEKHO BIGDATASEEKHO BIGDATASEEKHO BIGDATASEEKHO BIGDATASEEKHO BIGDATASEEKHO BIGDATASEEKHO BIGDATASEEKHO BIGDATASEEKHO BIGDATASEEKHO BIGDATASEEKHO BIGDATASEEKHO BIGDATASEEKHO BIGDATASEEKHO BIGDATASEEKHO BIGDATASEEKHO BIGDATASEEKHO BIGDATASEEKHO BIGDATASEEKHO BIGDATASEEKHO BIGDATASEEKHO BIGDATASEEKHO BIGDATASEEKHO BIGDATASEEKHO BIGDATASEEKHO BIGDATASEEKHO BIGDATASEEKHO BIGDATASEEKHO BIGDATASEEKHO BIGDATASEEKHO BIGDATASEEKHO BIGDATASEEKHO BIGDATASEEKHO BIGDATASEEKHO BIGDATASEEKHO BIGDATASEEKHO BIGDATASEEKHO BIGDATASEEKHO BIGDATASEEKHO BIGDATASEEKHO BIGDATASEEKHO BIGDATASEEKHO BIGDATASEEKHO BIGDATASEEKHO BIGDATASEEKHO BIGDATASEEKHO BIGDATASEEKHO BIGDATASEEKHO BIGDATASEEKHO BIGDATASEEKHO BIGDATASEEKHO BIGDATASEEKHO BIGDATASEEKHO BIGDATASEEKHO BIGDATASEEKHO BIGDATASEEKHO BIGDATASEEKHO BIGDATASEEKHO BIGDATASEEKHO BIGDATASEEKHO BIGDATASEEKHO BIGDATASEEKHO BIGDATASEEKHO BIGDATASEEKHO BIGDATASEEKHO BIGDATASEEKHO BIGDATASEEKHO BIGDATASEEKHO BIGDATASEEKHO BIGDATASEEKHO BIGDATASEEKHO BIGDATASEEKHO BIGDATASEEKHO BIGDATASEEKHO BIGDATASEEKHO BIGDATASEEKHO BIGDATASEEKHO BIGDATASEEKHO BIGDATASEEKHO BIGDATASEEKHO BIGDATASEEKHO BIGDATASEEKHO BIGDATASEEKHO BIGDATASEEKHO BIGDATASEEKHO BIGDATASEEKHO BIGDATASEEKHO BIGDATASEEKHO BIGDATASEEKHO BIGDATASEEKHO BIGDATASEEKHO BIGDATASEEKHO BIGDATASEEKHO BIGDATA\n"
     ]
    }
   ],
   "source": [
    "str = \"SEEKHO BIGDATA\"\n",
    "print( str*100)"
   ]
  },
  {
   "cell_type": "markdown",
   "metadata": {
    "application/vnd.databricks.v1+cell": {
     "cellMetadata": {},
     "inputWidgets": {},
     "nuid": "278b6db8-2473-4c25-89f1-67fd133cec78",
     "showTitle": false,
     "title": ""
    }
   },
   "source": [
    "8. Write a program to print all numbers which are divisible by 11 from 250 to\n",
    "550."
   ]
  },
  {
   "cell_type": "code",
   "execution_count": 0,
   "metadata": {
    "application/vnd.databricks.v1+cell": {
     "cellMetadata": {
      "byteLimit": 2048000,
      "rowLimit": 10000
     },
     "inputWidgets": {},
     "nuid": "65e2cc4e-e8b1-4e62-8019-9e9bb23b46a7",
     "showTitle": false,
     "title": ""
    }
   },
   "outputs": [
    {
     "output_type": "stream",
     "name": "stdout",
     "output_type": "stream",
     "text": [
      "253 264 275 286 297 308 319 330 341 352 363 374 385 396 407 418 429 440 451 462 473 484 495 506 517 528 539 550 "
     ]
    }
   ],
   "source": [
    "for i in range(250,551):\n",
    "    if i%11==0:\n",
    "        print(i,end=\" \")"
   ]
  },
  {
   "cell_type": "markdown",
   "metadata": {
    "application/vnd.databricks.v1+cell": {
     "cellMetadata": {},
     "inputWidgets": {},
     "nuid": "0b81c609-baed-4e37-b332-35648fe84f29",
     "showTitle": false,
     "title": ""
    }
   },
   "source": [
    "Write a program to sum all the numbers from 56 to 153."
   ]
  },
  {
   "cell_type": "code",
   "execution_count": 0,
   "metadata": {
    "application/vnd.databricks.v1+cell": {
     "cellMetadata": {
      "byteLimit": 2048000,
      "rowLimit": 10000
     },
     "inputWidgets": {},
     "nuid": "818883d6-f597-485d-9b66-3a751a83709d",
     "showTitle": false,
     "title": ""
    }
   },
   "outputs": [
    {
     "output_type": "stream",
     "name": "stdout",
     "output_type": "stream",
     "text": [
      "10088\n"
     ]
    }
   ],
   "source": [
    "sum = 0\n",
    "for i in range(56,153):\n",
    "    sum +=i\n",
    "print(sum)"
   ]
  },
  {
   "cell_type": "markdown",
   "metadata": {
    "application/vnd.databricks.v1+cell": {
     "cellMetadata": {},
     "inputWidgets": {},
     "nuid": "087558b4-f87d-4702-910e-4c1d54ea68aa",
     "showTitle": false,
     "title": ""
    }
   },
   "source": [
    "10. Write a program to print all even numbers in range 700 to 900."
   ]
  },
  {
   "cell_type": "code",
   "execution_count": 0,
   "metadata": {
    "application/vnd.databricks.v1+cell": {
     "cellMetadata": {
      "byteLimit": 2048000,
      "rowLimit": 10000
     },
     "inputWidgets": {},
     "nuid": "255daa81-6c83-4977-903b-23dc2d527c84",
     "showTitle": false,
     "title": ""
    }
   },
   "outputs": [
    {
     "output_type": "stream",
     "name": "stdout",
     "output_type": "stream",
     "text": [
      "700 702 704 706 708 710 712 714 716 718 720 722 724 726 728 730 732 734 736 738 740 742 744 746 748 750 752 754 756 758 760 762 764 766 768 770 772 774 776 778 780 782 784 786 788 790 792 794 796 798 800 802 804 806 808 810 812 814 816 818 820 822 824 826 828 830 832 834 836 838 840 842 844 846 848 850 852 854 856 858 860 862 864 866 868 870 872 874 876 878 880 882 884 886 888 890 892 894 896 898 "
     ]
    }
   ],
   "source": [
    "for i in range(700,900):\n",
    "    if i%2==0:\n",
    "        print(i,end=\" \")"
   ]
  },
  {
   "cell_type": "markdown",
   "metadata": {
    "application/vnd.databricks.v1+cell": {
     "cellMetadata": {},
     "inputWidgets": {},
     "nuid": "251c901d-6310-4fb0-a71a-2f2691627982",
     "showTitle": false,
     "title": ""
    }
   },
   "source": [
    "11. Write a program to print all odd numbers from 251 to 51. like (251,\n",
    "249,...51)"
   ]
  },
  {
   "cell_type": "code",
   "execution_count": 0,
   "metadata": {
    "application/vnd.databricks.v1+cell": {
     "cellMetadata": {
      "byteLimit": 2048000,
      "rowLimit": 10000
     },
     "inputWidgets": {},
     "nuid": "eaf6c6c8-5fb7-442b-8ecb-efd76591d6e3",
     "showTitle": false,
     "title": ""
    }
   },
   "outputs": [
    {
     "output_type": "stream",
     "name": "stdout",
     "output_type": "stream",
     "text": [
      "251 249 247 245 243 241 239 237 235 233 231 229 227 225 223 221 219 217 215 213 211 209 207 205 203 201 199 197 195 193 191 189 187 185 183 181 179 177 175 173 171 169 167 165 163 161 159 157 155 153 151 149 147 145 143 141 139 137 135 133 131 129 127 125 123 121 119 117 115 113 111 109 107 105 103 101 99 97 95 93 91 89 87 85 83 81 79 77 75 73 71 69 67 65 63 61 59 57 55 53 51 "
     ]
    }
   ],
   "source": [
    "for i in reversed(range(51,252)):\n",
    "    if i%2!=0:\n",
    "        print(i,end=\" \")"
   ]
  },
  {
   "cell_type": "markdown",
   "metadata": {
    "application/vnd.databricks.v1+cell": {
     "cellMetadata": {},
     "inputWidgets": {},
     "nuid": "08c2063d-7db0-4fe6-9969-49b9b7b42399",
     "showTitle": false,
     "title": ""
    }
   },
   "source": [
    "12. Write a Program to print the count of the even numbers between the given\n",
    "range?"
   ]
  },
  {
   "cell_type": "code",
   "execution_count": 0,
   "metadata": {
    "application/vnd.databricks.v1+cell": {
     "cellMetadata": {
      "byteLimit": 2048000,
      "rowLimit": 10000
     },
     "inputWidgets": {},
     "nuid": "f53d1191-9544-461d-8c06-daf9bc94ae29",
     "showTitle": false,
     "title": ""
    }
   },
   "outputs": [
    {
     "output_type": "display_data",
     "data": {
      "text/plain": [
       "Enter the strating range = 1"
      ]
     },
     "metadata": {},
     "output_type": "display_data"
    },
    {
     "output_type": "display_data",
     "data": {
      "text/plain": [
       "Enter the end range = 3"
      ]
     },
     "metadata": {},
     "output_type": "display_data"
    },
    {
     "output_type": "stream",
     "name": "stdout",
     "output_type": "stream",
     "text": [
      "1\n"
     ]
    }
   ],
   "source": [
    "count = 0\n",
    "\n",
    "start = int(input(\"Enter the strating range =\"))\n",
    "end = int(input(\"Enter the end range =\"))\n",
    "\n",
    "for i in range(start,end):\n",
    "    if i%2==0:\n",
    "        count+=1 \n",
    "print(count)"
   ]
  },
  {
   "cell_type": "markdown",
   "metadata": {
    "application/vnd.databricks.v1+cell": {
     "cellMetadata": {},
     "inputWidgets": {},
     "nuid": "88232493-afa8-40c7-8dcd-bbe80f9470e7",
     "showTitle": false,
     "title": ""
    }
   },
   "source": [
    "\n",
    "13. Write a program to print alternate even numbers from 20 to 140. Like\n",
    "(20,24,28...)"
   ]
  },
  {
   "cell_type": "code",
   "execution_count": 0,
   "metadata": {
    "application/vnd.databricks.v1+cell": {
     "cellMetadata": {
      "byteLimit": 2048000,
      "rowLimit": 10000
     },
     "inputWidgets": {},
     "nuid": "0450a3a7-8bb9-4e92-b6eb-28e424c49122",
     "showTitle": false,
     "title": ""
    }
   },
   "outputs": [
    {
     "output_type": "stream",
     "name": "stdout",
     "output_type": "stream",
     "text": [
      "20 24 28 32 36 40 44 48 52 56 60 64 68 72 76 80 84 88 92 96 100 104 108 112 116 120 124 128 132 136 140 "
     ]
    }
   ],
   "source": [
    "for i in range(20,141,4):\n",
    "    if i%2==0:\n",
    "        print(i,end=\" \")"
   ]
  },
  {
   "cell_type": "markdown",
   "metadata": {
    "application/vnd.databricks.v1+cell": {
     "cellMetadata": {},
     "inputWidgets": {},
     "nuid": "412a50ac-a8cb-49ee-aaf2-9e11226faed0",
     "showTitle": false,
     "title": ""
    }
   },
   "source": [
    "14. Write a program to print alternate even numbers from 20 to 140. Like\n",
    "(22,26,30...)"
   ]
  },
  {
   "cell_type": "code",
   "execution_count": 0,
   "metadata": {
    "application/vnd.databricks.v1+cell": {
     "cellMetadata": {
      "byteLimit": 2048000,
      "rowLimit": 10000
     },
     "inputWidgets": {},
     "nuid": "b44427bc-e54f-4fae-9d54-466cc7b2a54d",
     "showTitle": false,
     "title": ""
    }
   },
   "outputs": [
    {
     "output_type": "stream",
     "name": "stdout",
     "output_type": "stream",
     "text": [
      "20 26 32 38 44 50 56 62 68 74 80 86 92 98 104 110 116 122 128 134 140 "
     ]
    }
   ],
   "source": [
    "for i in range(20,141,6):\n",
    "    if i%2==0:\n",
    "        print(i,end=\" \")"
   ]
  },
  {
   "cell_type": "code",
   "execution_count": 0,
   "metadata": {
    "application/vnd.databricks.v1+cell": {
     "cellMetadata": {
      "byteLimit": 2048000,
      "rowLimit": 10000
     },
     "inputWidgets": {},
     "nuid": "29a45bdd-8fe7-4a74-a8a8-01fc46714c78",
     "showTitle": false,
     "title": ""
    }
   },
   "outputs": [
    {
     "output_type": "stream",
     "name": "stdout",
     "output_type": "stream",
     "text": [
      "2 * 3 , 3 * 4 , 4 * 5 , 5 * 6 , 6 * 7 , 7 * 8 , 8 * 9 , 9 * 10 , 10 * 11 , 11 * 12 , 12 * 13 , 13 * 14 , 14 * 15 , 15 * 16 , 16 * 17 , "
     ]
    }
   ],
   "source": [
    "a = 2\n",
    "b = 3\n",
    "\n",
    "while a<17 and b<18:\n",
    "    print(a,\"*\",b,\",\",end= \" \",)\n",
    "    a +=1\n",
    "    b+=1"
   ]
  },
  {
   "cell_type": "markdown",
   "metadata": {
    "application/vnd.databricks.v1+cell": {
     "cellMetadata": {},
     "inputWidgets": {},
     "nuid": "d4eb9d18-c4ed-4d2d-9367-9d8b3567c580",
     "showTitle": false,
     "title": ""
    }
   },
   "source": [
    "16. Write a program to sum all even numbers between 382 and 582."
   ]
  },
  {
   "cell_type": "code",
   "execution_count": 0,
   "metadata": {
    "application/vnd.databricks.v1+cell": {
     "cellMetadata": {
      "byteLimit": 2048000,
      "rowLimit": 10000
     },
     "inputWidgets": {},
     "nuid": "280982b8-5f05-4bae-829b-fd4ae40ba44d",
     "showTitle": false,
     "title": ""
    }
   },
   "outputs": [
    {
     "output_type": "stream",
     "name": "stdout",
     "output_type": "stream",
     "text": [
      "48682\n"
     ]
    }
   ],
   "source": [
    "sum = 0\n",
    "\n",
    "for i in range (382,583):\n",
    "    if i%2==0:\n",
    "        sum +=i\n",
    "print(sum)"
   ]
  },
  {
   "cell_type": "markdown",
   "metadata": {
    "application/vnd.databricks.v1+cell": {
     "cellMetadata": {},
     "inputWidgets": {},
     "nuid": "1f4d7d43-75ce-4692-bc1e-f501b6a6ed5d",
     "showTitle": false,
     "title": ""
    }
   },
   "source": [
    " Write a program to find the average of 24,26,28,.....100."
   ]
  },
  {
   "cell_type": "code",
   "execution_count": 0,
   "metadata": {
    "application/vnd.databricks.v1+cell": {
     "cellMetadata": {
      "byteLimit": 2048000,
      "rowLimit": 10000
     },
     "inputWidgets": {},
     "nuid": "ced1bbc3-8436-4521-a41c-a175600630ca",
     "showTitle": false,
     "title": ""
    }
   },
   "outputs": [
    {
     "output_type": "stream",
     "name": "stdout",
     "output_type": "stream",
     "text": [
      "The average between 24 to 100 by 2 =  62.0\n"
     ]
    }
   ],
   "source": [
    "avg = 0\n",
    "count=0\n",
    "sum= 0\n",
    "\n",
    "for i in range(24,101,2):\n",
    "    sum +=i\n",
    "    count +=1\n",
    "\n",
    "print(\"The average between 24 to 100 by 2 = \" , sum/count)\n",
    "    \n",
    "    "
   ]
  },
  {
   "cell_type": "markdown",
   "metadata": {
    "application/vnd.databricks.v1+cell": {
     "cellMetadata": {},
     "inputWidgets": {},
     "nuid": "9da4c5d2-a0ae-4395-9435-cf8d11a5cf6c",
     "showTitle": false,
     "title": ""
    }
   },
   "source": [
    " Write programs to sum of the following Series. 52 + 62 + 72\n",
    "+..........+1022."
   ]
  },
  {
   "cell_type": "code",
   "execution_count": 0,
   "metadata": {
    "application/vnd.databricks.v1+cell": {
     "cellMetadata": {
      "byteLimit": 2048000,
      "rowLimit": 10000
     },
     "inputWidgets": {},
     "nuid": "e13e9d40-3a48-4471-98db-bb48e5663b82",
     "showTitle": false,
     "title": ""
    }
   },
   "outputs": [
    {
     "output_type": "stream",
     "name": "stdout",
     "output_type": "stream",
     "text": [
      "Sum of squre of range =  358925\n"
     ]
    }
   ],
   "source": [
    "\n",
    "sum_of_squre=0\n",
    "for i in range (5,103):\n",
    "\n",
    "    sum_of_squre +=i*i\n",
    "\n",
    "print(\"Sum of squre of range = \",sum_of_squre)\n"
   ]
  },
  {
   "cell_type": "markdown",
   "metadata": {
    "application/vnd.databricks.v1+cell": {
     "cellMetadata": {},
     "inputWidgets": {},
     "nuid": "aa706430-330d-4e9b-9f37-394105ce627f",
     "showTitle": false,
     "title": ""
    }
   },
   "source": [
    "20. Write a program to print A, B alternatively for 100 times. Ex: (A, B, A, B,\n",
    "A,B...)"
   ]
  },
  {
   "cell_type": "code",
   "execution_count": 0,
   "metadata": {
    "application/vnd.databricks.v1+cell": {
     "cellMetadata": {
      "byteLimit": 2048000,
      "rowLimit": 10000
     },
     "inputWidgets": {},
     "nuid": "5505fd86-d335-4af6-9d28-dab0d3f22631",
     "showTitle": false,
     "title": ""
    }
   },
   "outputs": [
    {
     "output_type": "stream",
     "name": "stdout",
     "output_type": "stream",
     "text": [
      "A,B,A,B,A,B,A,B,A,B,A,B,A,B,A,B,A,B,A,B,A,B,A,B,A,B,A,B,A,B,A,B,A,B,A,B,A,B,A,B,A,B,A,B,A,B,A,B,A,B,A,B,A,B,A,B,A,B,A,B,A,B,A,B,A,B,A,B,A,B,A,B,A,B,A,B,A,B,A,B,A,B,A,B,A,B,A,B,A,B,A,B,A,B,A,B,A,B,A,B,A,B,A,B,A,B,A,B,A,B,A,B,A,B,A,B,A,B,A,B,A,B,A,B,A,B,A,B,A,B,A,B,A,B,A,B,A,B,A,B,A,B,A,B,A,B,A,B,A,B,A,B,A,B,A,B,A,B,A,B,A,B,A,B,A,B,A,B,A,B,A,B,A,B,A,B,A,B,A,B,A,B,A,B,A,B,A,B,A,B,A,B,A,B,A,B,A,B,A,B,\n"
     ]
    }
   ],
   "source": [
    "a = \"A,B,\"\n",
    "b = a*100\n",
    "print(b)"
   ]
  },
  {
   "cell_type": "markdown",
   "metadata": {
    "application/vnd.databricks.v1+cell": {
     "cellMetadata": {},
     "inputWidgets": {},
     "nuid": "c28d2e1d-c49e-41eb-9968-765d40cc5e35",
     "showTitle": false,
     "title": ""
    }
   },
   "source": [
    " Write a program to print the series : 10@9,9@8,8@7.......-5@-6"
   ]
  },
  {
   "cell_type": "code",
   "execution_count": 0,
   "metadata": {
    "application/vnd.databricks.v1+cell": {
     "cellMetadata": {
      "byteLimit": 2048000,
      "rowLimit": 10000
     },
     "inputWidgets": {},
     "nuid": "d6de1565-3a69-4f62-b28c-d3fed7f5fd5b",
     "showTitle": false,
     "title": ""
    }
   },
   "outputs": [
    {
     "output_type": "stream",
     "name": "stdout",
     "output_type": "stream",
     "text": [
      "10 @ 9 , 9 @ 8 , 8 @ 7 , 7 @ 6 , 6 @ 5 , 5 @ 4 , 4 @ 3 , 3 @ 2 , 2 @ 1 , 1 @ 0 , 0 @ -1 , -1 @ -2 , -2 @ -3 , -3 @ -4 , -4 @ -5 , -5 @ -6 , -6 @ -7 , -7 @ -8 , -8 @ -9 , -9 @ -10 , -10 @ -11 , -11 @ -12 , -12 @ -13 , -13 @ -14 , -14 @ -15 , -15 @ -16 , -16 @ -17 , -17 @ -18 , -18 @ -19 , -19 @ -20 , -20 @ -21 , -21 @ -22 , -22 @ -23 , -23 @ -24 , -24 @ -25 , -25 @ -26 , -26 @ -27 , -27 @ -28 , -28 @ -29 , -29 @ -30 , -30 @ -31 , -31 @ -32 , -32 @ -33 , -33 @ -34 , -34 @ -35 , -35 @ -36 , -36 @ -37 , -37 @ -38 , -38 @ -39 , -39 @ -40 , -40 @ -41 , -41 @ -42 , -42 @ -43 , -43 @ -44 , -44 @ -45 , -45 @ -46 , -46 @ -47 , -47 @ -48 , -48 @ -49 , -49 @ -50 , -50 @ -51 , -51 @ -52 , -52 @ -53 , -53 @ -54 , -54 @ -55 , -55 @ -56 , -56 @ -57 , -57 @ -58 , -58 @ -59 , -59 @ -60 , -60 @ -61 , -61 @ -62 , -62 @ -63 , -63 @ -64 , -64 @ -65 , -65 @ -66 , -66 @ -67 , -67 @ -68 , -68 @ -69 , -69 @ -70 , -70 @ -71 , -71 @ -72 , -72 @ -73 , -73 @ -74 , -74 @ -75 , -75 @ -76 , -76 @ -77 , -77 @ -78 , -78 @ -79 , -79 @ -80 , -80 @ -81 , -81 @ -82 , -82 @ -83 , -83 @ -84 , -84 @ -85 , -85 @ -86 , -86 @ -87 , -87 @ -88 , -88 @ -89 , -89 @ -90 , -90 @ -91 , -91 @ -92 , -92 @ -93 , -93 @ -94 , -94 @ -95 , -95 @ -96 , -96 @ -97 , -97 @ -98 , -98 @ -99 , -99 @ -100 , -100 @ -101 , -101 @ -102 , -102 @ -103 , -103 @ -104 , -104 @ -105 , -105 @ -106 , -106 @ -107 , -107 @ -108 , -108 @ -109 , -109 @ -110 , -110 @ -111 , -111 @ -112 , -112 @ -113 , -113 @ -114 , -114 @ -115 , -115 @ -116 , -116 @ -117 , -117 @ -118 , -118 @ -119 , -119 @ -120 , -120 @ -121 , -121 @ -122 , -122 @ -123 , -123 @ -124 , -124 @ -125 , -125 @ -126 , -126 @ -127 , -127 @ -128 , -128 @ -129 , -129 @ -130 , -130 @ -131 , -131 @ -132 , -132 @ -133 , -133 @ -134 , -134 @ -135 , -135 @ -136 , -136 @ -137 , -137 @ -138 , -138 @ -139 , -139 @ -140 , -140 @ -141 , -141 @ -142 , -142 @ -143 , -143 @ -144 , -144 @ -145 , -145 @ -146 , -146 @ -147 , -147 @ -148 , -148 @ -149 , -149 @ -150 , -150 @ -151 , -151 @ -152 , -152 @ -153 , -153 @ -154 , -154 @ -155 , -155 @ -156 , -156 @ -157 , -157 @ -158 , -158 @ -159 , -159 @ -160 , -160 @ -161 , -161 @ -162 , -162 @ -163 , -163 @ -164 , -164 @ -165 , -165 @ -166 , -166 @ -167 , -167 @ -168 , -168 @ -169 , -169 @ -170 , -170 @ -171 , -171 @ -172 , -172 @ -173 , -173 @ -174 , -174 @ -175 , -175 @ -176 , -176 @ -177 , -177 @ -178 , -178 @ -179 , -179 @ -180 , -180 @ -181 , -181 @ -182 , -182 @ -183 , -183 @ -184 , -184 @ -185 , -185 @ -186 , -186 @ -187 , -187 @ -188 , -188 @ -189 , -189 @ -190 , -190 @ -191 , -191 @ -192 , -192 @ -193 , -193 @ -194 , -194 @ -195 , -195 @ -196 , -196 @ -197 , -197 @ -198 , -198 @ -199 , -199 @ -200 , -200 @ -201 , -201 @ -202 , -202 @ -203 , -203 @ -204 , -204 @ -205 , -205 @ -206 , -206 @ -207 , -207 @ -208 , -208 @ -209 , -209 @ -210 , -210 @ -211 , -211 @ -212 , -212 @ -213 , -213 @ -214 , -214 @ -215 , -215 @ -216 , -216 @ -217 , -217 @ -218 , -218 @ -219 , -219 @ -220 , -220 @ -221 , -221 @ -222 , -222 @ -223 , -223 @ -224 , -224 @ -225 , -225 @ -226 , -226 @ -227 , -227 @ -228 , -228 @ -229 , -229 @ -230 , -230 @ -231 , -231 @ -232 , -232 @ -233 , -233 @ -234 , -234 @ -235 , -235 @ -236 , -236 @ -237 , -237 @ -238 , -238 @ -239 , -239 @ -240 , -240 @ -241 , -241 @ -242 , -242 @ -243 , -243 @ -244 , -244 @ -245 , -245 @ -246 , -246 @ -247 , -247 @ -248 , -248 @ -249 , -249 @ -250 , -250 @ -251 , -251 @ -252 , -252 @ -253 , -253 @ -254 , -254 @ -255 , -255 @ -256 , -256 @ -257 , -257 @ -258 , -258 @ -259 , -259 @ -260 , -260 @ -261 , -261 @ -262 , -262 @ -263 , -263 @ -264 , -264 @ -265 , -265 @ -266 , -266 @ -267 , -267 @ -268 , -268 @ -269 , -269 @ -270 , -270 @ -271 , -271 @ -272 , -272 @ -273 , -273 @ -274 , -274 @ -275 , -275 @ -276 , -276 @ -277 , -277 @ -278 , -278 @ -279 , -279 @ -280 , -280 @ -281 , -281 @ -282 , -282 @ -283 , -283 @ -284 , -284 @ -285 , -285 @ -286 , -286 @ -287 , -287 @ -288 , -288 @ -289 , -289 @ -290 , -290 @ -291 , -291 @ -292 , -292 @ -293 , -293 @ -294 , -294 @ -295 , -295 @ -296 , -296 @ -297 , -297 @ -298 , -298 @ -299 , -299 @ -300 , -300 @ -301 , -301 @ -302 , -302 @ -303 , -303 @ -304 , -304 @ -305 , -305 @ -306 , -306 @ -307 , -307 @ -308 , -308 @ -309 , -309 @ -310 , -310 @ -311 , -311 @ -312 , -312 @ -313 , -313 @ -314 , -314 @ -315 , -315 @ -316 , -316 @ -317 , -317 @ -318 , -318 @ -319 , -319 @ -320 , -320 @ -321 , -321 @ -322 , -322 @ -323 , -323 @ -324 , -324 @ -325 , -325 @ -326 , -326 @ -327 , -327 @ -328 , -328 @ -329 , -329 @ -330 , -330 @ -331 , -331 @ -332 , -332 @ -333 , -333 @ -334 , -334 @ -335 , -335 @ -336 , -336 @ -337 , -337 @ -338 , -338 @ -339 , -339 @ -340 , -340 @ -341 , -341 @ -342 , -342 @ -343 , -343 @ -344 , -344 @ -345 , -345 @ -346 , -346 @ -347 , -347 @ -348 , -348 @ -349 , -349 @ -350 , -350 @ -351 , -351 @ -352 , -352 @ -353 , -353 @ -354 , -354 @ -355 , -355 @ -356 , -356 @ -357 , -357 @ -358 , -358 @ -359 , -359 @ -360 , -360 @ -361 , -361 @ -362 , -362 @ -363 , -363 @ -364 , -364 @ -365 , -365 @ -366 , -366 @ -367 , -367 @ -368 , -368 @ -369 , -369 @ -370 , -370 @ -371 , -371 @ -372 , -372 @ -373 , -373 @ -374 , -374 @ -375 , -375 @ -376 , -376 @ -377 , -377 @ -378 , -378 @ -379 , -379 @ -380 , -380 @ -381 , -381 @ -382 , -382 @ -383 , -383 @ -384 , -384 @ -385 , -385 @ -386 , -386 @ -387 , -387 @ -388 , -388 @ -389 , -389 @ -390 , -390 @ -391 , -391 @ -392 , -392 @ -393 , -393 @ -394 , -394 @ -395 , -395 @ -396 , -396 @ -397 , -397 @ -398 , -398 @ -399 , -399 @ -400 , -400 @ -401 , -401 @ -402 , -402 @ -403 , -403 @ -404 , -404 @ -405 , -405 @ -406 , -406 @ -407 , -407 @ -408 , -408 @ -409 , -409 @ -410 , -410 @ -411 , -411 @ -412 , -412 @ -413 , -413 @ -414 , -414 @ -415 , -415 @ -416 , -416 @ -417 , -417 @ -418 , -418 @ -419 , -419 @ -420 , -420 @ -421 , -421 @ -422 , -422 @ -423 , -423 @ -424 , -424 @ -425 , -425 @ -426 , -426 @ -427 , -427 @ -428 , -428 @ -429 , -429 @ -430 , -430 @ -431 , -431 @ -432 , -432 @ -433 , -433 @ -434 , -434 @ -435 , -435 @ -436 , -436 @ -437 , -437 @ -438 , -438 @ -439 , -439 @ -440 , -440 @ -441 , -441 @ -442 , -442 @ -443 , -443 @ -444 , -444 @ -445 , -445 @ -446 , -446 @ -447 , -447 @ -448 , -448 @ -449 , -449 @ -450 , -450 @ -451 , -451 @ -452 , -452 @ -453 , -453 @ -454 , -454 @ -455 , -455 @ -456 , -456 @ -457 , -457 @ -458 , -458 @ -459 , -459 @ -460 , -460 @ -461 , -461 @ -462 , -462 @ -463 , -463 @ -464 , -464 @ -465 , -465 @ -466 , -466 @ -467 , -467 @ -468 , -468 @ -469 , -469 @ -470 , -470 @ -471 , -471 @ -472 , -472 @ -473 , -473 @ -474 , -474 @ -475 , -475 @ -476 , -476 @ -477 , -477 @ -478 , -478 @ -479 , -479 @ -480 , -480 @ -481 , -481 @ -482 , -482 @ -483 , -483 @ -484 , -484 @ -485 , -485 @ -486 , -486 @ -487 , -487 @ -488 , -488 @ -489 , -489 @ -490 , -490 @ -491 , -491 @ -492 , -492 @ -493 , -493 @ -494 , -494 @ -495 , -495 @ -496 , -496 @ -497 , -497 @ -498 , -498 @ -499 , -499 @ -500 , -500 @ -501 , -501 @ -502 , -502 @ -503 , -503 @ -504 , -504 @ -505 , -505 @ -506 , -506 @ -507 , -507 @ -508 , -508 @ -509 , -509 @ -510 , -510 @ -511 , -511 @ -512 , -512 @ -513 , -513 @ -514 , -514 @ -515 , -515 @ -516 , -516 @ -517 , -517 @ -518 , -518 @ -519 , -519 @ -520 , -520 @ -521 , -521 @ -522 , -522 @ -523 , -523 @ -524 , -524 @ -525 , -525 @ -526 , -526 @ -527 , -527 @ -528 , -528 @ -529 , -529 @ -530 , -530 @ -531 , -531 @ -532 , -532 @ -533 , -533 @ -534 , -534 @ -535 , -535 @ -536 , -536 @ -537 , -537 @ -538 , -538 @ -539 , -539 @ -540 , -540 @ -541 , -541 @ -542 , -542 @ -543 , -543 @ -544 , -544 @ -545 , -545 @ -546 , -546 @ -547 , -547 @ -548 , -548 @ -549 , -549 @ -550 , -550 @ -551 , -551 @ -552 , -552 @ -553 , -553 @ -554 , -554 @ -555 , -555 @ -556 , -556 @ -557 , -557 @ -558 , -558 @ -559 , -559 @ -560 , -560 @ -561 , -561 @ -562 , -562 @ -563 , -563 @ -564 , -564 @ -565 , -565 @ -566 , -566 @ -567 , -567 @ -568 , -568 @ -569 , -569 @ -570 , -570 @ -571 , -571 @ -572 , -572 @ -573 , -573 @ -574 , -574 @ -575 , -575 @ -576 , -576 @ -577 , -577 @ -578 , -578 @ -579 , -579 @ -580 , -580 @ -581 , -581 @ -582 , -582 @ -583 , -583 @ -584 , -584 @ -585 , -585 @ -586 , -586 @ -587 , -587 @ -588 , -588 @ -589 , -589 @ -590 , -590 @ -591 , -591 @ -592 , -592 @ -593 , -593 @ -594 , -594 @ -595 , -595 @ -596 , -596 @ -597 , -597 @ -598 , -598 @ -599 , -599 @ -600 , -600 @ -601 , -601 @ -602 , -602 @ -603 , -603 @ -604 , -604 @ -605 , -605 @ -606 , -606 @ -607 , -607 @ -608 , -608 @ -609 , -609 @ -610 , -610 @ -611 , -611 @ -612 , -612 @ -613 , -613 @ -614 , -614 @ -615 , -615 @ -616 , -616 @ -617 , -617 @ -618 , -618 @ -619 , -619 @ -620 , -620 @ -621 , -621 @ -622 , -622 @ -623 , -623 @ -624 , -624 @ -625 , -625 @ -626 , -626 @ -627 , -627 @ -628 , -628 @ -629 , -629 @ -630 , -630 @ -631 , -631 @ -632 , -632 @ -633 , -633 @ -634 , -634 @ -635 , -635 @ -636 , -636 @ -637 , -637 @ -638 , -638 @ -639 , -639 @ -640 , -640 @ -641 , -641 @ -642 , -642 @ -643 , -643 @ -644 , -644 @ -645 , -645 @ -646 , -646 @ -647 , -647 @ -648 , -648 @ -649 , -649 @ -650 , -650 @ -651 , -651 @ -652 , -652 @ -653 , -653 @ -654 , -654 @ -655 , -655 @ -656 , -656 @ -657 , -657 @ -658 , -658 @ -659 , -659 @ -660 , -660 @ -661 , -661 @ -662 , -662 @ -663 , -663 @ -664 , -664 @ -665 , -665 @ -666 , -666 @ -667 , -667 @ -668 , -668 @ -669 , -669 @ -670 , -670 @ -671 , -671 @ -672 , -672 @ -673 , -673 @ -674 , -674 @ -675 , -675 @ -676 , -676 @ -677 , -677 @ -678 , -678 @ -679 , -679 @ -680 , -680 @ -681 , -681 @ -682 , -682 @ -683 , -683 @ -684 , -684 @ -685 , -685 @ -686 , -686 @ -687 , -687 @ -688 , -688 @ -689 , -689 @ -690 , -690 @ -691 , -691 @ -692 , -692 @ -693 , -693 @ -694 , -694 @ -695 , -695 @ -696 , -696 @ -697 , -697 @ -698 , -698 @ -699 , -699 @ -700 , -700 @ -701 , -701 @ -702 , -702 @ -703 , -703 @ -704 , -704 @ -705 , -705 @ -706 , -706 @ -707 , -707 @ -708 , -708 @ -709 , -709 @ -710 , -710 @ -711 , -711 @ -712 , -712 @ -713 , -713 @ -714 , -714 @ -715 , -715 @ -716 , -716 @ -717 , -717 @ -718 , -718 @ -719 , -719 @ -720 , -720 @ -721 , -721 @ -722 , -722 @ -723 , -723 @ -724 , -724 @ -725 , -725 @ -726 , -726 @ -727 , -727 @ -728 , -728 @ -729 , -729 @ -730 , -730 @ -731 , -731 @ -732 , -732 @ -733 , -733 @ -734 , -734 @ -735 , -735 @ -736 , -736 @ -737 , -737 @ -738 , -738 @ -739 , -739 @ -740 , -740 @ -741 , -741 @ -742 , -742 @ -743 , -743 @ -744 , -744 @ -745 , -745 @ -746 , -746 @ -747 , -747 @ -748 , -748 @ -749 , -749 @ -750 , -750 @ -751 , -751 @ -752 , -752 @ -753 , -753 @ -754 , -754 @ -755 , -755 @ -756 , -756 @ -757 , -757 @ -758 , -758 @ -759 , -759 @ -760 , -760 @ -761 , -761 @ -762 , -762 @ -763 , -763 @ -764 , -764 @ -765 , -765 @ -766 , -766 @ -767 , -767 @ -768 , -768 @ -769 , -769 @ -770 , -770 @ -771 , -771 @ -772 , -772 @ -773 , -773 @ -774 , -774 @ -775 , -775 @ -776 , -776 @ -777 , -777 @ -778 , -778 @ -779 , -779 @ -780 , -780 @ -781 , -781 @ -782 , -782 @ -783 , -783 @ -784 , -784 @ -785 , -785 @ -786 , -786 @ -787 , -787 @ -788 , -788 @ -789 , -789 @ -790 , -790 @ -791 , -791 @ -792 , -792 @ -793 , -793 @ -794 , -794 @ -795 , -795 @ -796 , -796 @ -797 , -797 @ -798 , -798 @ -799 , -799 @ -800 , -800 @ -801 , -801 @ -802 , -802 @ -803 , -803 @ -804 , -804 @ -805 , -805 @ -806 , -806 @ -807 , -807 @ -808 , -808 @ -809 , -809 @ -810 , -810 @ -811 , -811 @ -812 , -812 @ -813 , -813 @ -814 , -814 @ -815 , -815 @ -816 , -816 @ -817 , -817 @ -818 , -818 @ -819 , -819 @ -820 , -820 @ -821 , -821 @ -822 , -822 @ -823 , -823 @ -824 , -824 @ -825 , -825 @ -826 , -826 @ -827 , -827 @ -828 , -828 @ -829 , -829 @ -830 , -830 @ -831 , -831 @ -832 , -832 @ -833 , -833 @ -834 , -834 @ -835 , -835 @ -836 , -836 @ -837 , -837 @ -838 , -838 @ -839 , -839 @ -840 , -840 @ -841 , -841 @ -842 , -842 @ -843 , -843 @ -844 , -844 @ -845 , -845 @ -846 , -846 @ -847 , -847 @ -848 , -848 @ -849 , -849 @ -850 , -850 @ -851 , -851 @ -852 , -852 @ -853 , -853 @ -854 , -854 @ -855 , -855 @ -856 , -856 @ -857 , -857 @ -858 , -858 @ -859 , -859 @ -860 , -860 @ -861 , -861 @ -862 , -862 @ -863 , -863 @ -864 , -864 @ -865 , -865 @ -866 , -866 @ -867 , -867 @ -868 , -868 @ -869 , -869 @ -870 , -870 @ -871 , -871 @ -872 , -872 @ -873 , -873 @ -874 , -874 @ -875 , -875 @ -876 , -876 @ -877 , -877 @ -878 , -878 @ -879 , -879 @ -880 , -880 @ -881 , -881 @ -882 , -882 @ -883 , -883 @ -884 , -884 @ -885 , -885 @ -886 , -886 @ -887 , -887 @ -888 , -888 @ -889 , -889 @ -890 , -890 @ -891 , -891 @ -892 , -892 @ -893 , -893 @ -894 , -894 @ -895 , -895 @ -896 , -896 @ -897 , -897 @ -898 , -898 @ -899 , -899 @ -900 , -900 @ -901 , -901 @ -902 , -902 @ -903 , -903 @ -904 , -904 @ -905 , -905 @ -906 , -906 @ -907 , -907 @ -908 , -908 @ -909 , -909 @ -910 , -910 @ -911 , -911 @ -912 , -912 @ -913 , -913 @ -914 , -914 @ -915 , -915 @ -916 , -916 @ -917 , -917 @ -918 , -918 @ -919 , -919 @ -920 , -920 @ -921 , -921 @ -922 , -922 @ -923 , -923 @ -924 , -924 @ -925 , -925 @ -926 , -926 @ -927 , -927 @ -928 , -928 @ -929 , -929 @ -930 , -930 @ -931 , -931 @ -932 , -932 @ -933 , -933 @ -934 , -934 @ -935 , -935 @ -936 , -936 @ -937 , -937 @ -938 , -938 @ -939 , -939 @ -940 , -940 @ -941 , -941 @ -942 , -942 @ -943 , -943 @ -944 , -944 @ -945 , -945 @ -946 , -946 @ -947 , -947 @ -948 , -948 @ -949 , -949 @ -950 , -950 @ -951 , -951 @ -952 , -952 @ -953 , -953 @ -954 , -954 @ -955 , -955 @ -956 , -956 @ -957 , -957 @ -958 , -958 @ -959 , -959 @ -960 , -960 @ -961 , -961 @ -962 , -962 @ -963 , -963 @ -964 , -964 @ -965 , -965 @ -966 , -966 @ -967 , -967 @ -968 , -968 @ -969 , -969 @ -970 , -970 @ -971 , -971 @ -972 , -972 @ -973 , -973 @ -974 , -974 @ -975 , -975 @ -976 , -976 @ -977 , -977 @ -978 , -978 @ -979 , -979 @ -980 , -980 @ -981 , -981 @ -982 , -982 @ -983 , -983 @ -984 , -984 @ -985 , -985 @ -986 , -986 @ -987 , -987 @ -988 , -988 @ -989 , -989 @ -990 , -990 @ -991 , -991 @ -992 , -992 @ -993 , -993 @ -994 , -994 @ -995 , -995 @ -996 , -996 @ -997 , -997 @ -998 , -998 @ -999 , -999 @ -1000 , -1000 @ -1001 , -1001 @ -1002 , -1002 @ -1003 , -1003 @ -1004 , -1004 @ -1005 , -1005 @ -1006 , -1006 @ -1007 , -1007 @ -1008 , -1008 @ -1009 , -1009 @ -1010 , -1010 @ -1011 , -1011 @ -1012 , -1012 @ -1013 , -1013 @ -1014 , -1014 @ -1015 , -1015 @ -1016 , -1016 @ -1017 , -1017 @ -1018 , -1018 @ -1019 , -1019 @ -1020 , -1020 @ -1021 , -1021 @ -1022 , -1022 @ -1023 , -1023 @ -1024 , -1024 @ -1025 , -1025 @ -1026 , -1026 @ -1027 , -1027 @ -1028 , -1028 @ -1029 , -1029 @ -1030 , -1030 @ -1031 , -1031 @ -1032 , -1032 @ -1033 , -1033 @ -1034 , -1034 @ -1035 , -1035 @ -1036 , -1036 @ -1037 , -1037 @ -1038 , -1038 @ -1039 , -1039 @ -1040 , -1040 @ -1041 , -1041 @ -1042 , -1042 @ -1043 , -1043 @ -1044 , -1044 @ -1045 , -1045 @ -1046 , -1046 @ -1047 , -1047 @ -1048 , -1048 @ -1049 , -1049 @ -1050 , -1050 @ -1051 , -1051 @ -1052 , -1052 @ -1053 , -1053 @ -1054 , -1054 @ -1055 , -1055 @ -1056 , -1056 @ -1057 , -1057 @ -1058 , -1058 @ -1059 , -1059 @ -1060 , -1060 @ -1061 , -1061 @ -1062 , -1062 @ -1063 , -1063 @ -1064 , -1064 @ -1065 , -1065 @ -1066 , -1066 @ -1067 , -1067 @ -1068 , -1068 @ -1069 , -1069 @ -1070 , -1070 @ -1071 , -1071 @ -1072 , -1072 @ -1073 , -1073 @ -1074 , -1074 @ -1075 , -1075 @ -1076 , -1076 @ -1077 , -1077 @ -1078 , -1078 @ -1079 , -1079 @ -1080 , -1080 @ -1081 , -1081 @ -1082 , -1082 @ -1083 , -1083 @ -1084 , -1084 @ -1085 , -1085 @ -1086 , -1086 @ -1087 , -1087 @ -1088 , -1088 @ -1089 , -1089 @ -1090 , -1090 @ -1091 , -1091 @ -1092 , -1092 @ -1093 , -1093 @ -1094 , -1094 @ -1095 , -1095 @ -1096 , -1096 @ -1097 , -1097 @ -1098 , -1098 @ -1099 , -1099 @ -1100 , -1100 @ -1101 , -1101 @ -1102 , -1102 @ -1103 , -1103 @ -1104 , -1104 @ -1105 , -1105 @ -1106 , -1106 @ -1107 , -1107 @ -1108 , -1108 @ -1109 , -1109 @ -1110 , -1110 @ -1111 , -1111 @ -1112 , -1112 @ -1113 , -1113 @ -1114 , -1114 @ -1115 , -1115 @ -1116 , -1116 @ -1117 , -1117 @ -1118 , -1118 @ -1119 , -1119 @ -1120 , -1120 @ -1121 , -1121 @ -1122 , -1122 @ -1123 , -1123 @ -1124 , -1124 @ -1125 , -1125 @ -1126 , -1126 @ -1127 , -1127 @ -1128 , -1128 @ -1129 , -1129 @ -1130 , -1130 @ -1131 , -1131 @ -1132 , -1132 @ -1133 , -1133 @ -1134 , -1134 @ -1135 , -1135 @ -1136 , -1136 @ -1137 , -1137 @ -1138 , -1138 @ -1139 , -1139 @ -1140 , -1140 @ -1141 , -1141 @ -1142 , -1142 @ -1143 , -1143 @ -1144 , -1144 @ -1145 , -1145 @ -1146 , -1146 @ -1147 , -1147 @ -1148 , -1148 @ -1149 , -1149 @ -1150 , -1150 @ -1151 , -1151 @ -1152 , -1152 @ -1153 , -1153 @ -1154 , -1154 @ -1155 , -1155 @ -1156 , -1156 @ -1157 , -1157 @ -1158 , -1158 @ -1159 , -1159 @ -1160 , -1160 @ -1161 , -1161 @ -1162 , -1162 @ -1163 , -1163 @ -1164 , -1164 @ -1165 , -1165 @ -1166 , -1166 @ -1167 , -1167 @ -1168 , -1168 @ -1169 , -1169 @ -1170 , -1170 @ -1171 , -1171 @ -1172 , -1172 @ -1173 , -1173 @ -1174 , -1174 @ -1175 , -1175 @ -1176 , -1176 @ -1177 , -1177 @ -1178 , -1178 @ -1179 , -1179 @ -1180 , -1180 @ -1181 , -1181 @ -1182 , -1182 @ -1183 , -1183 @ -1184 , -1184 @ -1185 , -1185 @ -1186 , -1186 @ -1187 , -1187 @ -1188 , -1188 @ -1189 , -1189 @ -1190 , -1190 @ -1191 , -1191 @ -1192 , -1192 @ -1193 , -1193 @ -1194 , -1194 @ -1195 , -1195 @ -1196 , -1196 @ -1197 , -1197 @ -1198 , -1198 @ -1199 , -1199 @ -1200 , -1200 @ -1201 , -1201 @ -1202 , -1202 @ -1203 , -1203 @ -1204 , -1204 @ -1205 , -1205 @ -1206 , -1206 @ -1207 , -1207 @ -1208 , -1208 @ -1209 , -1209 @ -1210 , -1210 @ -1211 , -1211 @ -1212 , -1212 @ -1213 , -1213 @ -1214 , -1214 @ -1215 , -1215 @ -1216 , -1216 @ -1217 , -1217 @ -1218 , -1218 @ -1219 , -1219 @ -1220 , -1220 @ -1221 , -1221 @ -1222 , -1222 @ -1223 , -1223 @ -1224 , -1224 @ -1225 , -1225 @ -1226 , -1226 @ -1227 , -1227 @ -1228 , -1228 @ -1229 , -1229 @ -1230 , -1230 @ -1231 , -1231 @ -1232 , -1232 @ -1233 , -1233 @ -1234 , -1234 @ -1235 , -1235 @ -1236 , -1236 @ -1237 , -1237 @ -1238 , -1238 @ -1239 , -1239 @ -1240 , -1240 @ -1241 , -1241 @ -1242 , -1242 @ -1243 , -1243 @ -1244 , -1244 @ -1245 , -1245 @ -1246 , -1246 @ -1247 , -1247 @ -1248 , -1248 @ -1249 , -1249 @ -1250 , -1250 @ -1251 , -1251 @ -1252 , -1252 @ -1253 , -1253 @ -1254 , -1254 @ -1255 , -1255 @ -1256 , -1256 @ -1257 , -1257 @ -1258 , -1258 @ -1259 , -1259 @ -1260 , -1260 @ -1261 , -1261 @ -1262 , -1262 @ -1263 , -1263 @ -1264 , -1264 @ -1265 , -1265 @ -1266 , -1266 @ -1267 , -1267 @ -1268 , -1268 @ -1269 , -1269 @ -1270 , -1270 @ -1271 , -1271 @ -1272 , -1272 @ -1273 , -1273 @ -1274 , -1274 @ -1275 , -1275 @ -1276 , -1276 @ -1277 , -1277 @ -1278 , -1278 @ -1279 , -1279 @ -1280 , -1280 @ -1281 , -1281 @ -1282 , -1282 @ -1283 , -1283 @ -1284 , -1284 @ -1285 , -1285 @ -1286 , -1286 @ -1287 , -1287 @ -1288 , -1288 @ -1289 , -1289 @ -1290 , -1290 @ -1291 , -1291 @ -1292 , -1292 @ -1293 , -1293 @ -1294 , -1294 @ -1295 , -1295 @ -1296 , -1296 @ -1297 , -1297 @ -1298 , -1298 @ -1299 , -1299 @ -1300 , -1300 @ -1301 , -1301 @ -1302 , -1302 @ -1303 , -1303 @ -1304 , -1304 @ -1305 , -1305 @ -1306 , -1306 @ -1307 , -1307 @ -1308 , -1308 @ -1309 , -1309 @ -1310 , -1310 @ -1311 , -1311 @ -1312 , -1312 @ -1313 , -1313 @ -1314 , -1314 @ -1315 , -1315 @ -1316 , -1316 @ -1317 , -1317 @ -1318 , -1318 @ -1319 , -1319 @ -1320 , -1320 @ -1321 , -1321 @ -1322 , -1322 @ -1323 , -1323 @ -1324 , -1324 @ -1325 , -1325 @ -1326 , -1326 @ -1327 , -1327 @ -1328 , -1328 @ -1329 , -1329 @ -1330 , -1330 @ -1331 , -1331 @ -1332 , -1332 @ -1333 , -1333 @ -1334 , -1334 @ -1335 , -1335 @ -1336 , -1336 @ -1337 , -1337 @ -1338 , -1338 @ -1339 , -1339 @ -1340 , -1340 @ -1341 , -1341 @ -1342 , -1342 @ -1343 , -1343 @ -1344 , -1344 @ -1345 , -1345 @ -1346 , -1346 @ -1347 , -1347 @ -1348 , -1348 @ -1349 , -1349 @ -1350 , -1350 @ -1351 , -1351 @ -1352 , -1352 @ -1353 , -1353 @ -1354 , -1354 @ -1355 , -1355 @ -1356 , -1356 @ -1357 , -1357 @ -1358 , -1358 @ -1359 , -1359 @ -1360 , -1360 @ -1361 , -1361 @ -1362 , -1362 @ -1363 , -1363 @ -1364 , -1364 @ -1365 , -1365 @ -1366 , -1366 @ -1367 , -1367 @ -1368 , -1368 @ -1369 , -1369 @ -1370 , -1370 @ -1371 , -1371 @ -1372 , -1372 @ -1373 , -1373 @ -1374 , -1374 @ -1375 , -1375 @ -1376 , -1376 @ -1377 , -1377 @ -1378 , -1378 @ -1379 , -1379 @ -1380 , -1380 @ -1381 , -1381 @ -1382 , -1382 @ -1383 , -1383 @ -1384 , -1384 @ -1385 , -1385 @ -1386 , -1386 @ -1387 , -1387 @ -1388 , -1388 @ -1389 , -1389 @ -1390 , -1390 @ -1391 , -1391 @ -1392 , -1392 @ -1393 , -1393 @ -1394 , -1394 @ -1395 , -1395 @ -1396 , -1396 @ -1397 , -1397 @ -1398 , -1398 @ -1399 , -1399 @ -1400 , -1400 @ -1401 , -1401 @ -1402 , -1402 @ -1403 , -1403 @ -1404 , -1404 @ -1405 , -1405 @ -1406 , -1406 @ -1407 , -1407 @ -1408 , -1408 @ -1409 , -1409 @ -1410 , -1410 @ -1411 , -1411 @ -1412 , -1412 @ -1413 , -1413 @ -1414 , -1414 @ -1415 , -1415 @ -1416 , -1416 @ -1417 , -1417 @ -1418 , -1418 @ -1419 , -1419 @ -1420 , -1420 @ -1421 , -1421 @ -1422 , -1422 @ -1423 , -1423 @ -1424 , -1424 @ -1425 , -1425 @ -1426 , -1426 @ -1427 , -1427 @ -1428 , -1428 @ -1429 , -1429 @ -1430 , -1430 @ -1431 , -1431 @ -1432 , -1432 @ -1433 , -1433 @ -1434 , -1434 @ -1435 , -1435 @ -1436 , -1436 @ -1437 , -1437 @ -1438 , -1438 @ -1439 , -1439 @ -1440 , -1440 @ -1441 , -1441 @ -1442 , -1442 @ -1443 , -1443 @ -1444 , -1444 @ -1445 , -1445 @ -1446 , -1446 @ -1447 , -1447 @ -1448 , -1448 @ -1449 , -1449 @ -1450 , -1450 @ -1451 , -1451 @ -1452 , -1452 @ -1453 , -1453 @ -1454 , -1454 @ -1455 , -1455 @ -1456 , -1456 @ -1457 , -1457 @ -1458 , -1458 @ -1459 , -1459 @ -1460 , -1460 @ -1461 , -1461 @ -1462 , -1462 @ -1463 , -1463 @ -1464 , -1464 @ -1465 , -1465 @ -1466 , -1466 @ -1467 , -1467 @ -1468 , -1468 @ -1469 , -1469 @ -1470 , -1470 @ -1471 , -1471 @ -1472 , -1472 @ -1473 , -1473 @ -1474 , -1474 @ -1475 , -1475 @ -1476 , -1476 @ -1477 , -1477 @ -1478 , -1478 @ -1479 , -1479 @ -1480 , -1480 @ -1481 , -1481 @ -1482 , -1482 @ -1483 , -1483 @ -1484 , -1484 @ -1485 , -1485 @ -1486 , -1486 @ -1487 , -1487 @ -1488 , -1488 @ -1489 , -1489 @ -1490 , -1490 @ -1491 , -1491 @ -1492 , -1492 @ -1493 , -1493 @ -1494 , -1494 @ -1495 , -1495 @ -1496 , -1496 @ -1497 , -1497 @ -1498 , -1498 @ -1499 , -1499 @ -1500 , -1500 @ -1501 , -1501 @ -1502 , -1502 @ -1503 , -1503 @ -1504 , -1504 @ -1505 , -1505 @ -1506 , -1506 @ -1507 , -1507 @ -1508 , -1508 @ -1509 , -1509 @ -1510 , -1510 @ -1511 , -1511 @ -1512 , -1512 @ -1513 , -1513 @ -1514 , -1514 @ -1515 , -1515 @ -1516 , -1516 @ -1517 , -1517 @ -1518 , -1518 @ -1519 , -1519 @ -1520 , -1520 @ -1521 , -1521 @ -1522 , -1522 @ -1523 , -1523 @ -1524 , -1524 @ -1525 , -1525 @ -1526 , -1526 @ -1527 , -1527 @ -1528 , -1528 @ -1529 , -1529 @ -1530 , -1530 @ -1531 , -1531 @ -1532 , -1532 @ -1533 , -1533 @ -1534 , -1534 @ -1535 , -1535 @ -1536 , -1536 @ -1537 , -1537 @ -1538 , -1538 @ -1539 , -1539 @ -1540 , -1540 @ -1541 , -1541 @ -1542 , -1542 @ -1543 , -1543 @ -1544 , -1544 @ -1545 , -1545 @ -1546 , -1546 @ -1547 , -1547 @ -1548 , -1548 @ -1549 , -1549 @ -1550 , -1550 @ -1551 , -1551 @ -1552 , -1552 @ -1553 , -1553 @ -1554 , -1554 @ -1555 , -1555 @ -1556 , -1556 @ -1557 , -1557 @ -1558 , -1558 @ -1559 , -1559 @ -1560 , -1560 @ -1561 , -1561 @ -1562 , -1562 @ -1563 , -1563 @ -1564 , -1564 @ -1565 , -1565 @ -1566 , -1566 @ -1567 , -1567 @ -1568 , -1568 @ -1569 , -1569 @ -1570 , -1570 @ -1571 , -1571 @ -1572 , -1572 @ -1573 , -1573 @ -1574 , -1574 @ -1575 , -1575 @ -1576 , -1576 @ -1577 , -1577 @ -1578 , -1578 @ -1579 , -1579 @ -1580 , -1580 @ -1581 , -1581 @ -1582 , -1582 @ -1583 , -1583 @ -1584 , -1584 @ -1585 , -1585 @ -1586 , -1586 @ -1587 , -1587 @ -1588 , -1588 @ -1589 , -1589 @ -1590 , -1590 @ -1591 , -1591 @ -1592 , -1592 @ -1593 , -1593 @ -1594 , -1594 @ -1595 , -1595 @ -1596 , -1596 @ -1597 , -1597 @ -1598 , -1598 @ -1599 , -1599 @ -1600 , -1600 @ -1601 , -1601 @ -1602 , -1602 @ -1603 , -1603 @ -1604 , -1604 @ -1605 , -1605 @ -1606 , -1606 @ -1607 , -1607 @ -1608 , -1608 @ -1609 , -1609 @ -1610 , -1610 @ -1611 , -1611 @ -1612 , -1612 @ -1613 , -1613 @ -1614 , -1614 @ -1615 , -1615 @ -1616 , -1616 @ -1617 , -1617 @ -1618 , -1618 @ -1619 , -1619 @ -1620 , -1620 @ -1621 , -1621 @ -1622 , -1622 @ -1623 , -1623 @ -1624 , -1624 @ -1625 , -1625 @ -1626 , -1626 @ -1627 , -1627 @ -1628 , -1628 @ -1629 , -1629 @ -1630 , -1630 @ -1631 , -1631 @ -1632 , -1632 @ -1633 , -1633 @ -1634 , -1634 @ -1635 , -1635 @ -1636 , -1636 @ -1637 , -1637 @ -1638 , -1638 @ -1639 , -1639 @ -1640 , -1640 @ -1641 , -1641 @ -1642 , -1642 @ -1643 , -1643 @ -1644 , -1644 @ -1645 , -1645 @ -1646 , -1646 @ -1647 , -1647 @ -1648 , -1648 @ -1649 , -1649 @ -1650 , -1650 @ -1651 , -1651 @ -1652 , -1652 @ -1653 , -1653 @ -1654 , -1654 @ -1655 , -1655 @ -1656 , -1656 @ -1657 , -1657 @ -1658 , -1658 @ -1659 , -1659 @ -1660 , -1660 @ -1661 , -1661 @ -1662 , -1662 @ -1663 , -1663 @ -1664 , -1664 @ -1665 , -1665 @ -1666 , -1666 @ -1667 , -1667 @ -1668 , -1668 @ -1669 , -1669 @ -1670 , -1670 @ -1671 , -1671 @ -1672 , -1672 @ -1673 , -1673 @ -1674 , -1674 @ -1675 , -1675 @ -1676 , -1676 @ -1677 , -1677 @ -1678 , -1678 @ -1679 , -1679 @ -1680 , -1680 @ -1681 , -1681 @ -1682 , -1682 @ -1683 , -1683 @ -1684 , -1684 @ -1685 , -1685 @ -1686 , -1686 @ -1687 , -1687 @ -1688 , -1688 @ -1689 , -1689 @ -1690 , -1690 @ -1691 , -1691 @ -1692 , -1692 @ -1693 , -1693 @ -1694 , -1694 @ -1695 , -1695 @ -1696 , -\n\n*** WARNING: max output size exceeded, skipping output. ***\n\n -528686 @ -528687 , -528687 @ -528688 , -528688 @ -528689 , -528689 @ -528690 , -528690 @ -528691 , -528691 @ -528692 , -528692 @ -528693 , -528693 @ -528694 , -528694 @ -528695 , -528695 @ -528696 , -528696 @ -528697 , -528697 @ -528698 , -528698 @ -528699 , -528699 @ -528700 , -528700 @ -528701 , -528701 @ -528702 , -528702 @ -528703 , -528703 @ -528704 , -528704 @ -528705 , -528705 @ -528706 , -528706 @ -528707 , -528707 @ -528708 , -528708 @ -528709 , -528709 @ -528710 , -528710 @ -528711 , -528711 @ -528712 , -528712 @ -528713 , -528713 @ -528714 , -528714 @ -528715 , -528715 @ -528716 , -528716 @ -528717 , -528717 @ -528718 , -528718 @ -528719 , -528719 @ -528720 , -528720 @ -528721 , -528721 @ -528722 , -528722 @ -528723 , -528723 @ -528724 , -528724 @ -528725 , -528725 @ -528726 , -528726 @ -528727 , -528727 @ -528728 , -528728 @ -528729 , -528729 @ -528730 , -528730 @ -528731 , -528731 @ -528732 , -528732 @ -528733 , -528733 @ -528734 , -528734 @ -528735 , -528735 @ -528736 , -528736 @ -528737 , -528737 @ -528738 , -528738 @ -528739 , -528739 @ -528740 , -528740 @ -528741 , -528741 @ -528742 , -528742 @ -528743 , -528743 @ -528744 , -528744 @ -528745 , -528745 @ -528746 , -528746 @ -528747 , -528747 @ -528748 , -528748 @ -528749 , -528749 @ -528750 , -528750 @ -528751 , -528751 @ -528752 , -528752 @ -528753 , -528753 @ -528754 , -528754 @ -528755 , -528755 @ -528756 , -528756 @ -528757 , -528757 @ -528758 , -528758 @ -528759 , -528759 @ -528760 , -528760 @ -528761 , -528761 @ -528762 , -528762 @ -528763 , -528763 @ -528764 , -528764 @ -528765 , -528765 @ -528766 , -528766 @ -528767 , -528767 @ -528768 , -528768 @ -528769 , -528769 @ -528770 , -528770 @ -528771 , -528771 @ -528772 , -528772 @ -528773 , -528773 @ -528774 , -528774 @ -528775 , -528775 @ -528776 , -528776 @ -528777 , -528777 @ -528778 , -528778 @ -528779 , -528779 @ -528780 , -528780 @ -528781 , -528781 @ -528782 , -528782 @ -528783 , -528783 @ -528784 , -528784 @ -528785 , -528785 @ -528786 , -528786 @ -528787 , -528787 @ -528788 , -528788 @ -528789 , -528789 @ -528790 , -528790 @ -528791 , -528791 @ -528792 , -528792 @ -528793 , -528793 @ -528794 , -528794 @ -528795 , -528795 @ -528796 , -528796 @ -528797 , -528797 @ -528798 , -528798 @ -528799 , -528799 @ -528800 , -528800 @ -528801 , -528801 @ -528802 , -528802 @ -528803 , -528803 @ -528804 , -528804 @ -528805 , -528805 @ -528806 , -528806 @ -528807 , -528807 @ -528808 , -528808 @ -528809 , -528809 @ -528810 , -528810 @ -528811 , -528811 @ -528812 , -528812 @ -528813 , -528813 @ -528814 , -528814 @ -528815 , -528815 @ -528816 , -528816 @ -528817 , -528817 @ -528818 , -528818 @ -528819 , -528819 @ -528820 , -528820 @ -528821 , -528821 @ -528822 , -528822 @ -528823 , -528823 @ -528824 , -528824 @ -528825 , -528825 @ -528826 , -528826 @ -528827 , -528827 @ -528828 , -528828 @ -528829 , -528829 @ -528830 , -528830 @ -528831 , -528831 @ -528832 , -528832 @ -528833 , -528833 @ -528834 , -528834 @ -528835 , -528835 @ -528836 , -528836 @ -528837 , -528837 @ -528838 , -528838 @ -528839 , -528839 @ -528840 , -528840 @ -528841 , -528841 @ -528842 , -528842 @ -528843 , -528843 @ -528844 , -528844 @ -528845 , -528845 @ -528846 , -528846 @ -528847 , -528847 @ -528848 , -528848 @ -528849 , -528849 @ -528850 , -528850 @ -528851 , -528851 @ -528852 , -528852 @ -528853 , -528853 @ -528854 , -528854 @ -528855 , -528855 @ -528856 , -528856 @ -528857 , -528857 @ -528858 , -528858 @ -528859 , -528859 @ -528860 , -528860 @ -528861 , -528861 @ -528862 , -528862 @ -528863 , -528863 @ -528864 , -528864 @ -528865 , -528865 @ -528866 , -528866 @ -528867 , -528867 @ -528868 , -528868 @ -528869 , -528869 @ -528870 , -528870 @ -528871 , -528871 @ -528872 , -528872 @ -528873 , -528873 @ -528874 , -528874 @ -528875 , -528875 @ -528876 , -528876 @ -528877 , -528877 @ -528878 , -528878 @ -528879 , -528879 @ -528880 , -528880 @ -528881 , -528881 @ -528882 , -528882 @ -528883 , -528883 @ -528884 , -528884 @ -528885 , -528885 @ -528886 , -528886 @ -528887 , -528887 @ -528888 , -528888 @ -528889 , -528889 @ -528890 , -528890 @ -528891 , -528891 @ -528892 , -528892 @ -528893 , -528893 @ -528894 , -528894 @ -528895 , -528895 @ -528896 , -528896 @ -528897 , -528897 @ -528898 , -528898 @ -528899 , -528899 @ -528900 , -528900 @ -528901 , -528901 @ -528902 , -528902 @ -528903 , -528903 @ -528904 , -528904 @ -528905 , -528905 @ -528906 , -528906 @ -528907 , -528907 @ -528908 , -528908 @ -528909 , -528909 @ -528910 , -528910 @ -528911 , -528911 @ -528912 , -528912 @ -528913 , -528913 @ -528914 , -528914 @ -528915 , -528915 @ -528916 , -528916 @ -528917 , -528917 @ -528918 , -528918 @ -528919 , -528919 @ -528920 , -528920 @ -528921 , -528921 @ -528922 , -528922 @ -528923 , -528923 @ -528924 , -528924 @ -528925 , -528925 @ -528926 , -528926 @ -528927 , -528927 @ -528928 , -528928 @ -528929 , -528929 @ -528930 , -528930 @ -528931 , -528931 @ -528932 , -528932 @ -528933 , -528933 @ -528934 , -528934 @ -528935 , -528935 @ -528936 , -528936 @ -528937 , -528937 @ -528938 , -528938 @ -528939 , -528939 @ -528940 , -528940 @ -528941 , -528941 @ -528942 , -528942 @ -528943 , -528943 @ -528944 , -528944 @ -528945 , -528945 @ -528946 , -528946 @ -528947 , -528947 @ -528948 , -528948 @ -528949 , -528949 @ -528950 , -528950 @ -528951 , -528951 @ -528952 , -528952 @ -528953 , -528953 @ -528954 , -528954 @ -528955 , -528955 @ -528956 , -528956 @ -528957 , -528957 @ -528958 , -528958 @ -528959 , -528959 @ -528960 , -528960 @ -528961 , -528961 @ -528962 , -528962 @ -528963 , -528963 @ -528964 , -528964 @ -528965 , -528965 @ -528966 , -528966 @ -528967 , -528967 @ -528968 , -528968 @ -528969 , -528969 @ -528970 , -528970 @ -528971 , -528971 @ -528972 , -528972 @ -528973 , -528973 @ -528974 , -528974 @ -528975 , -528975 @ -528976 , -528976 @ -528977 , -528977 @ -528978 , -528978 @ -528979 , -528979 @ -528980 , -528980 @ -528981 , -528981 @ -528982 , -528982 @ -528983 , -528983 @ -528984 , -528984 @ -528985 , -528985 @ -528986 , -528986 @ -528987 , -528987 @ -528988 , -528988 @ -528989 , -528989 @ -528990 , -528990 @ -528991 , -528991 @ -528992 , -528992 @ -528993 , -528993 @ -528994 , -528994 @ -528995 , -528995 @ -528996 , -528996 @ -528997 , -528997 @ -528998 , -528998 @ -528999 , -528999 @ -529000 , -529000 @ -529001 , -529001 @ -529002 , -529002 @ -529003 , -529003 @ -529004 , -529004 @ -529005 , -529005 @ -529006 , -529006 @ -529007 , -529007 @ -529008 , -529008 @ -529009 , -529009 @ -529010 , -529010 @ -529011 , -529011 @ -529012 , -529012 @ -529013 , -529013 @ -529014 , -529014 @ -529015 , -529015 @ -529016 , -529016 @ -529017 , -529017 @ -529018 , -529018 @ -529019 , -529019 @ -529020 , -529020 @ -529021 , -529021 @ -529022 , -529022 @ -529023 , -529023 @ -529024 , -529024 @ -529025 , -529025 @ -529026 , -529026 @ -529027 , -529027 @ -529028 , -529028 @ -529029 , -529029 @ -529030 , -529030 @ -529031 , -529031 @ -529032 , -529032 @ -529033 , -529033 @ -529034 , -529034 @ -529035 , -529035 @ -529036 , -529036 @ -529037 , -529037 @ -529038 , -529038 @ -529039 , -529039 @ -529040 , -529040 @ -529041 , -529041 @ -529042 , -529042 @ -529043 , -529043 @ -529044 , -529044 @ -529045 , -529045 @ -529046 , -529046 @ -529047 , -529047 @ -529048 , -529048 @ -529049 , -529049 @ -529050 , -529050 @ -529051 , -529051 @ -529052 , -529052 @ -529053 , -529053 @ -529054 , -529054 @ -529055 , -529055 @ -529056 , -529056 @ -529057 , -529057 @ -529058 , -529058 @ -529059 , -529059 @ -529060 , -529060 @ -529061 , -529061 @ -529062 , -529062 @ -529063 , -529063 @ -529064 , -529064 @ -529065 , -529065 @ -529066 , -529066 @ -529067 , -529067 @ -529068 , -529068 @ -529069 , -529069 @ -529070 , -529070 @ -529071 , -529071 @ -529072 , -529072 @ -529073 , -529073 @ -529074 , -529074 @ -529075 , -529075 @ -529076 , -529076 @ -529077 , -529077 @ -529078 , -529078 @ -529079 , -529079 @ -529080 , -529080 @ -529081 , -529081 @ -529082 , -529082 @ -529083 , -529083 @ -529084 , -529084 @ -529085 , -529085 @ -529086 , -529086 @ -529087 , -529087 @ -529088 , -529088 @ -529089 , -529089 @ -529090 , -529090 @ -529091 , -529091 @ -529092 , -529092 @ -529093 , -529093 @ -529094 , -529094 @ -529095 , -529095 @ -529096 , -529096 @ -529097 , -529097 @ -529098 , -529098 @ -529099 , -529099 @ -529100 , -529100 @ -529101 , -529101 @ -529102 , -529102 @ -529103 , -529103 @ -529104 , -529104 @ -529105 , -529105 @ -529106 , -529106 @ -529107 , -529107 @ -529108 , -529108 @ -529109 , -529109 @ -529110 , -529110 @ -529111 , -529111 @ -529112 , -529112 @ -529113 , -529113 @ -529114 , -529114 @ -529115 , -529115 @ -529116 , -529116 @ -529117 , -529117 @ -529118 , -529118 @ -529119 , -529119 @ -529120 , -529120 @ -529121 , -529121 @ -529122 , -529122 @ -529123 , -529123 @ -529124 , -529124 @ -529125 , -529125 @ -529126 , -529126 @ -529127 , -529127 @ -529128 , -529128 @ -529129 , -529129 @ -529130 , -529130 @ -529131 , -529131 @ -529132 , -529132 @ -529133 , -529133 @ -529134 , -529134 @ -529135 , -529135 @ -529136 , -529136 @ -529137 , -529137 @ -529138 , -529138 @ -529139 , -529139 @ -529140 , -529140 @ -529141 , -529141 @ -529142 , -529142 @ -529143 , -529143 @ -529144 , -529144 @ -529145 , -529145 @ -529146 , -529146 @ -529147 , -529147 @ -529148 , -529148 @ -529149 , -529149 @ -529150 , -529150 @ -529151 , -529151 @ -529152 , -529152 @ -529153 , -529153 @ -529154 , -529154 @ -529155 , -529155 @ -529156 , -529156 @ -529157 , -529157 @ -529158 , -529158 @ -529159 , -529159 @ -529160 , -529160 @ -529161 , -529161 @ -529162 , -529162 @ -529163 , -529163 @ -529164 , -529164 @ -529165 , -529165 @ -529166 , -529166 @ -529167 , -529167 @ -529168 , -529168 @ -529169 , -529169 @ -529170 , -529170 @ -529171 , -529171 @ -529172 , -529172 @ -529173 , -529173 @ -529174 , -529174 @ -529175 , -529175 @ -529176 , -529176 @ -529177 , -529177 @ -529178 , -529178 @ -529179 , -529179 @ -529180 , -529180 @ -529181 , -529181 @ -529182 , -529182 @ -529183 , -529183 @ -529184 , -529184 @ -529185 , -529185 @ -529186 , -529186 @ -529187 , -529187 @ -529188 , -529188 @ -529189 , -529189 @ -529190 , -529190 @ -529191 , -529191 @ -529192 , -529192 @ -529193 , -529193 @ -529194 , -529194 @ -529195 , -529195 @ -529196 , -529196 @ -529197 , -529197 @ -529198 , -529198 @ -529199 , -529199 @ -529200 , -529200 @ -529201 , -529201 @ -529202 , -529202 @ -529203 , -529203 @ -529204 , -529204 @ -529205 , -529205 @ -529206 , -529206 @ -529207 , -529207 @ -529208 , -529208 @ -529209 , -529209 @ -529210 , -529210 @ -529211 , -529211 @ -529212 , -529212 @ -529213 , -529213 @ -529214 , -529214 @ -529215 , -529215 @ -529216 , -529216 @ -529217 , -529217 @ -529218 , -529218 @ -529219 , -529219 @ -529220 , -529220 @ -529221 , -529221 @ -529222 , -529222 @ -529223 , -529223 @ -529224 , -529224 @ -529225 , -529225 @ -529226 , -529226 @ -529227 , -529227 @ -529228 , -529228 @ -529229 , -529229 @ -529230 , -529230 @ -529231 , -529231 @ -529232 , -529232 @ -529233 , -529233 @ -529234 , -529234 @ -529235 , -529235 @ -529236 , -529236 @ -529237 , -529237 @ -529238 , -529238 @ -529239 , -529239 @ -529240 , -529240 @ -529241 , -529241 @ -529242 , -529242 @ -529243 , -529243 @ -529244 , -529244 @ -529245 , -529245 @ -529246 , -529246 @ -529247 , -529247 @ -529248 , -529248 @ -529249 , -529249 @ -529250 , -529250 @ -529251 , -529251 @ -529252 , -529252 @ -529253 , -529253 @ -529254 , -529254 @ -529255 , -529255 @ -529256 , -529256 @ -529257 , -529257 @ -529258 , -529258 @ -529259 , -529259 @ -529260 , -529260 @ -529261 , -529261 @ -529262 , -529262 @ -529263 , -529263 @ -529264 , -529264 @ -529265 , -529265 @ -529266 , -529266 @ -529267 , -529267 @ -529268 , -529268 @ -529269 , -529269 @ -529270 , -529270 @ -529271 , -529271 @ -529272 , -529272 @ -529273 , -529273 @ -529274 , -529274 @ -529275 , -529275 @ -529276 , -529276 @ -529277 , -529277 @ -529278 , -529278 @ -529279 , -529279 @ -529280 , -529280 @ -529281 , -529281 @ -529282 , -529282 @ -529283 , -529283 @ -529284 , -529284 @ -529285 , -529285 @ -529286 , -529286 @ -529287 , -529287 @ -529288 , -529288 @ -529289 , -529289 @ -529290 , -529290 @ -529291 , -529291 @ -529292 , -529292 @ -529293 , -529293 @ -529294 , -529294 @ -529295 , -529295 @ -529296 , -529296 @ -529297 , -529297 @ -529298 , -529298 @ -529299 , -529299 @ -529300 , -529300 @ -529301 , -529301 @ -529302 , -529302 @ -529303 , -529303 @ -529304 , -529304 @ -529305 , -529305 @ -529306 , -529306 @ -529307 , -529307 @ -529308 , -529308 @ -529309 , -529309 @ -529310 , -529310 @ -529311 , -529311 @ -529312 , -529312 @ -529313 , -529313 @ -529314 , -529314 @ -529315 , -529315 @ -529316 , -529316 @ -529317 , -529317 @ -529318 , -529318 @ -529319 , -529319 @ -529320 , -529320 @ -529321 , -529321 @ -529322 , -529322 @ -529323 , -529323 @ -529324 , -529324 @ -529325 , -529325 @ -529326 , -529326 @ -529327 , -529327 @ -529328 , -529328 @ -529329 , -529329 @ -529330 , -529330 @ -529331 , -529331 @ -529332 , -529332 @ -529333 , -529333 @ -529334 , -529334 @ -529335 , -529335 @ -529336 , -529336 @ -529337 , -529337 @ -529338 , -529338 @ -529339 , -529339 @ -529340 , -529340 @ -529341 , -529341 @ -529342 , -529342 @ -529343 , -529343 @ -529344 , -529344 @ -529345 , -529345 @ -529346 , -529346 @ -529347 , -529347 @ -529348 , -529348 @ -529349 , -529349 @ -529350 , -529350 @ -529351 , -529351 @ -529352 , -529352 @ -529353 , -529353 @ -529354 , -529354 @ -529355 , -529355 @ -529356 , -529356 @ -529357 , -529357 @ -529358 , -529358 @ -529359 , -529359 @ -529360 , -529360 @ -529361 , -529361 @ -529362 , -529362 @ -529363 , -529363 @ -529364 , -529364 @ -529365 , -529365 @ -529366 , -529366 @ -529367 , -529367 @ -529368 , -529368 @ -529369 , -529369 @ -529370 , -529370 @ -529371 , -529371 @ -529372 , -529372 @ -529373 , -529373 @ -529374 , -529374 @ -529375 , -529375 @ -529376 , -529376 @ -529377 , -529377 @ -529378 , -529378 @ -529379 , -529379 @ -529380 , -529380 @ -529381 , -529381 @ -529382 , -529382 @ -529383 , -529383 @ -529384 , -529384 @ -529385 , -529385 @ -529386 , -529386 @ -529387 , -529387 @ -529388 , -529388 @ -529389 , -529389 @ -529390 , -529390 @ -529391 , -529391 @ -529392 , -529392 @ -529393 , -529393 @ -529394 , -529394 @ -529395 , -529395 @ -529396 , -529396 @ -529397 , -529397 @ -529398 , -529398 @ -529399 , -529399 @ -529400 , -529400 @ -529401 , -529401 @ -529402 , -529402 @ -529403 , -529403 @ -529404 , -529404 @ -529405 , -529405 @ -529406 , -529406 @ -529407 , -529407 @ -529408 , -529408 @ -529409 , -529409 @ -529410 , -529410 @ -529411 , -529411 @ -529412 , -529412 @ -529413 , -529413 @ -529414 , -529414 @ -529415 , -529415 @ -529416 , -529416 @ -529417 , -529417 @ -529418 , -529418 @ -529419 , -529419 @ -529420 , -529420 @ -529421 , -529421 @ -529422 , -529422 @ -529423 , -529423 @ -529424 , -529424 @ -529425 , -529425 @ -529426 , -529426 @ -529427 , -529427 @ -529428 , -529428 @ -529429 , -529429 @ -529430 , -529430 @ -529431 , -529431 @ -529432 , -529432 @ -529433 , -529433 @ -529434 , -529434 @ -529435 , -529435 @ -529436 , -529436 @ -529437 , -529437 @ -529438 , -529438 @ -529439 , -529439 @ -529440 , -529440 @ -529441 , -529441 @ -529442 , -529442 @ -529443 , -529443 @ -529444 , -529444 @ -529445 , -529445 @ -529446 , -529446 @ -529447 , -529447 @ -529448 , -529448 @ -529449 , -529449 @ -529450 , -529450 @ -529451 , -529451 @ -529452 , -529452 @ -529453 , -529453 @ -529454 , -529454 @ -529455 , -529455 @ -529456 , -529456 @ -529457 , -529457 @ -529458 , -529458 @ -529459 , -529459 @ -529460 , -529460 @ -529461 , -529461 @ -529462 , -529462 @ -529463 , -529463 @ -529464 , -529464 @ -529465 , -529465 @ -529466 , -529466 @ -529467 , -529467 @ -529468 , -529468 @ -529469 , -529469 @ -529470 , -529470 @ -529471 , -529471 @ -529472 , -529472 @ -529473 , -529473 @ -529474 , -529474 @ -529475 , -529475 @ -529476 , -529476 @ -529477 , -529477 @ -529478 , -529478 @ -529479 , -529479 @ -529480 , -529480 @ -529481 , -529481 @ -529482 , -529482 @ -529483 , -529483 @ -529484 , -529484 @ -529485 , -529485 @ -529486 , -529486 @ -529487 , -529487 @ -529488 , -529488 @ -529489 , -529489 @ -529490 , -529490 @ -529491 , -529491 @ -529492 , -529492 @ -529493 , -529493 @ -529494 , -529494 @ -529495 , -529495 @ -529496 , -529496 @ -529497 , -529497 @ -529498 , -529498 @ -529499 , -529499 @ -529500 , -529500 @ -529501 , -529501 @ -529502 , -529502 @ -529503 , -529503 @ -529504 , -529504 @ -529505 , -529505 @ -529506 , -529506 @ -529507 , -529507 @ -529508 , -529508 @ -529509 , -529509 @ -529510 , -529510 @ -529511 , -529511 @ -529512 , -529512 @ -529513 , -529513 @ -529514 , -529514 @ -529515 , -529515 @ -529516 , -529516 @ -529517 , -529517 @ -529518 , -529518 @ -529519 , -529519 @ -529520 , -529520 @ -529521 , -529521 @ -529522 , -529522 @ -529523 , -529523 @ -529524 , -529524 @ -529525 , -529525 @ -529526 , -529526 @ -529527 , -529527 @ -529528 , -529528 @ -529529 , -529529 @ -529530 , -529530 @ -529531 , -529531 @ -529532 , -529532 @ -529533 , -529533 @ -529534 , -529534 @ -529535 , -529535 @ -529536 , -529536 @ -529537 , -529537 @ -529538 , -529538 @ -529539 , -529539 @ -529540 , -529540 @ -529541 , -529541 @ -529542 , -529542 @ -529543 , -529543 @ -529544 , -529544 @ -529545 , -529545 @ -529546 , -529546 @ -529547 , -529547 @ -529548 , -529548 @ -529549 , -529549 @ -529550 , -529550 @ -529551 , -529551 @ -529552 , -529552 @ -529553 , -529553 @ -529554 , -529554 @ -529555 , -529555 @ -529556 , -529556 @ -529557 , -529557 @ -529558 , -529558 @ -529559 , -529559 @ -529560 , -529560 @ -529561 , -529561 @ -529562 , -529562 @ -529563 , -529563 @ -529564 , -529564 @ -529565 , -529565 @ -529566 , -529566 @ -529567 , -529567 @ -529568 , -529568 @ -529569 , -529569 @ -529570 , -529570 @ -529571 , -529571 @ -529572 , -529572 @ -529573 , -529573 @ -529574 , -529574 @ -529575 , -529575 @ -529576 , -529576 @ -529577 , -529577 @ -529578 , -529578 @ -529579 , -529579 @ -529580 , -529580 @ -529581 , -529581 @ -529582 , -529582 @ -529583 , -529583 @ -529584 , -529584 @ -529585 , -529585 @ -529586 , -529586 @ -529587 , -529587 @ -529588 , -529588 @ -529589 , -529589 @ -529590 , -529590 @ -529591 , -529591 @ -529592 , -529592 @ -529593 , -529593 @ -529594 , -529594 @ -529595 , -529595 @ -529596 , -529596 @ -529597 , -529597 @ -529598 , -529598 @ -529599 , -529599 @ -529600 , -529600 @ -529601 , -529601 @ -529602 , -529602 @ -529603 , -529603 @ -529604 , -529604 @ -529605 , -529605 @ -529606 , -529606 @ -529607 , -529607 @ -529608 , -529608 @ -529609 , -529609 @ -529610 , -529610 @ -529611 , -529611 @ -529612 , -529612 @ -529613 , -529613 @ -529614 , -529614 @ -529615 , -529615 @ -529616 , -529616 @ -529617 , -529617 @ -529618 , -529618 @ -529619 , -529619 @ -529620 , -529620 @ -529621 , -529621 @ -529622 , -529622 @ -529623 , -529623 @ -529624 , -529624 @ -529625 , -529625 @ -529626 , -529626 @ -529627 , -529627 @ -529628 , -529628 @ -529629 , -529629 @ -529630 , -529630 @ -529631 , -529631 @ -529632 , -529632 @ -529633 , -529633 @ -529634 , -529634 @ -529635 , -529635 @ -529636 , -529636 @ -529637 , -529637 @ -529638 , -529638 @ -529639 , -529639 @ -529640 , -529640 @ -529641 , -529641 @ -529642 , -529642 @ -529643 , -529643 @ -529644 , -529644 @ -529645 , -529645 @ -529646 , -529646 @ -529647 , -529647 @ -529648 , -529648 @ -529649 , -529649 @ -529650 , -529650 @ -529651 , -529651 @ -529652 , -529652 @ -529653 , -529653 @ -529654 , -529654 @ -529655 , -529655 @ -529656 , -529656 @ -529657 , -529657 @ -529658 , -529658 @ -529659 , -529659 @ -529660 , -529660 @ -529661 , -529661 @ -529662 , -529662 @ -529663 , -529663 @ -529664 , -529664 @ -529665 , -529665 @ -529666 , -529666 @ -529667 , -529667 @ -529668 , -529668 @ -529669 , -529669 @ -529670 , -529670 @ -529671 , -529671 @ -529672 , -529672 @ -529673 , -529673 @ -529674 , -529674 @ -529675 , -529675 @ -529676 , -529676 @ -529677 , -529677 @ -529678 , -529678 @ -529679 , -529679 @ -529680 , -529680 @ -529681 , -529681 @ -529682 , -529682 @ -529683 , -529683 @ -529684 , -529684 @ -529685 , -529685 @ -529686 , -529686 @ -529687 , -529687 @ -529688 , -529688 @ -529689 , -529689 @ -529690 , -529690 @ -529691 , -529691 @ -529692 , -529692 @ -529693 , -529693 @ -529694 , -529694 @ -529695 , -529695 @ -529696 , -529696 @ -529697 , -529697 @ -529698 , -529698 @ -529699 , -529699 @ -529700 , -529700 @ -529701 , -529701 @ -529702 , -529702 @ -529703 , -529703 @ -529704 , -529704 @ -529705 , -529705 @ -529706 , -529706 @ -529707 , -529707 @ -529708 , -529708 @ -529709 , -529709 @ -529710 , -529710 @ -529711 , -529711 @ -529712 , -529712 @ -529713 , -529713 @ -529714 , -529714 @ -529715 , -529715 @ -529716 , -529716 @ -529717 , -529717 @ -529718 , -529718 @ -529719 , -529719 @ -529720 , -529720 @ -529721 , -529721 @ -529722 , -529722 @ -529723 , -529723 @ -529724 , -529724 @ -529725 , -529725 @ -529726 , -529726 @ -529727 , -529727 @ -529728 , -529728 @ -529729 , -529729 @ -529730 , -529730 @ -529731 , -529731 @ -529732 , -529732 @ -529733 , -529733 @ -529734 , -529734 @ -529735 , -529735 @ -529736 , -529736 @ -529737 , -529737 @ -529738 , -529738 @ -529739 , -529739 @ -529740 , -529740 @ -529741 , -529741 @ -529742 , -529742 @ -529743 , -529743 @ -529744 , -529744 @ -529745 , -529745 @ -529746 , -529746 @ -529747 , -529747 @ -529748 , -529748 @ -529749 , -529749 @ -529750 , -529750 @ -529751 , -529751 @ -529752 , -529752 @ -529753 , -529753 @ -529754 , -529754 @ -529755 , -529755 @ -529756 , -529756 @ -529757 , -529757 @ -529758 , -529758 @ -529759 , -529759 @ -529760 , -529760 @ -529761 , -529761 @ -529762 , -529762 @ -529763 , -529763 @ -529764 , -529764 @ -529765 , -529765 @ -529766 , -529766 @ -529767 , -529767 @ -529768 , -529768 @ -529769 , -529769 @ -529770 , -529770 @ -529771 , -529771 @ -529772 , -529772 @ -529773 , -529773 @ -529774 , -529774 @ -529775 , -529775 @ -529776 , -529776 @ -529777 , -529777 @ -529778 , -529778 @ -529779 , -529779 @ -529780 , -529780 @ -529781 , -529781 @ -529782 , -529782 @ -529783 , -529783 @ -529784 , -529784 @ -529785 , -529785 @ -529786 , -529786 @ -529787 , -529787 @ -529788 , -529788 @ -529789 , -529789 @ -529790 , -529790 @ -529791 , -529791 @ -529792 , -529792 @ -529793 , -529793 @ -529794 , -529794 @ -529795 , -529795 @ -529796 , -529796 @ -529797 , -529797 @ -529798 , -529798 @ -529799 , -529799 @ -529800 , -529800 @ -529801 , -529801 @ -529802 , -529802 @ -529803 , -529803 @ -529804 , -529804 @ -529805 , -529805 @ -529806 , -529806 @ -529807 , -529807 @ -529808 , -529808 @ -529809 , -529809 @ -529810 , -529810 @ -529811 , -529811 @ -529812 , -529812 @ -529813 , -529813 @ -529814 , -529814 @ -529815 , -529815 @ -529816 , -529816 @ -529817 , -529817 @ -529818 , -529818 @ -529819 , -529819 @ -529820 , -529820 @ -529821 , -529821 @ -529822 , -529822 @ -529823 , -529823 @ -529824 , -529824 @ -529825 , -529825 @ -529826 , -529826 @ -529827 , -529827 @ -529828 , -529828 @ -529829 , -529829 @ -529830 , -529830 @ -529831 , -529831 @ -529832 , -529832 @ -529833 , -529833 @ -529834 , -529834 @ -529835 , -529835 @ -529836 , -529836 @ -529837 , -529837 @ -529838 , -529838 @ -529839 , -529839 @ -529840 , -529840 @ -529841 , -529841 @ -529842 , -529842 @ -529843 , -529843 @ -529844 , -529844 @ -529845 , -529845 @ -529846 , -529846 @ -529847 , -529847 @ -529848 , -529848 @ -529849 , -529849 @ -529850 , -529850 @ -529851 , -529851 @ -529852 , -529852 @ -529853 , -529853 @ -529854 , -529854 @ -529855 , -529855 @ -529856 , -529856 @ -529857 , -529857 @ -529858 , -529858 @ -529859 , -529859 @ -529860 , -529860 @ -529861 , -529861 @ -529862 , -529862 @ -529863 , -529863 @ -529864 , -529864 @ -529865 , -529865 @ -529866 , -529866 @ -529867 , -529867 @ -529868 , -529868 @ -529869 , -529869 @ -529870 , -529870 @ -529871 , -529871 @ -529872 , -529872 @ -529873 , -529873 @ -529874 , -529874 @ -529875 , -529875 @ -529876 , -529876 @ -529877 , -529877 @ -529878 , -529878 @ -529879 , -529879 @ -529880 , -529880 @ -529881 , -529881 @ -529882 , -529882 @ -529883 , -529883 @ -529884 , -529884 @ -529885 , -529885 @ -529886 , -529886 @ -529887 , -529887 @ -529888 , -529888 @ -529889 , -529889 @ -529890 , -529890 @ -529891 , -529891 @ -529892 , -529892 @ -529893 , -529893 @ -529894 , -529894 @ -529895 , -529895 @ -529896 , -529896 @ -529897 , -529897 @ -529898 , -529898 @ -529899 , -529899 @ -529900 , -529900 @ -529901 , -529901 @ -529902 , -529902 @ -529903 , -529903 @ -529904 , -529904 @ -529905 , -529905 @ -529906 , -529906 @ -529907 , -529907 @ -529908 , -529908 @ -529909 , -529909 @ -529910 , -529910 @ -529911 , -529911 @ -529912 , -529912 @ -529913 , -529913 @ -529914 , -529914 @ -529915 , -529915 @ -529916 , -529916 @ -529917 , -529917 @ -529918 , -529918 @ -529919 , -529919 @ -529920 , -529920 @ -529921 , -529921 @ -529922 , -529922 @ -529923 , -529923 @ -529924 , -529924 @ -529925 , -529925 @ -529926 , -529926 @ -529927 , -529927 @ -529928 , -529928 @ -529929 , -529929 @ -529930 , -529930 @ -529931 , -529931 @ -529932 , -529932 @ -529933 , -529933 @ -529934 , -529934 @ -529935 , -529935 @ -529936 ,"
     ]
    },
    {
     "output_type": "display_data",
     "data": {
      "text/html": [
       "<style scoped>\n",
       "  .ansiout {\n",
       "    display: block;\n",
       "    unicode-bidi: embed;\n",
       "    white-space: pre-wrap;\n",
       "    word-wrap: break-word;\n",
       "    word-break: break-all;\n",
       "    font-family: \"Menlo\", \"Monaco\", \"Consolas\", \"Ubuntu Mono\", \"Source Code Pro\", monospace;\n",
       "    font-size: 13px;\n",
       "    color: #555;\n",
       "    margin-left: 4px;\n",
       "    line-height: 19px;\n",
       "  }\n",
       "</style>"
      ]
     },
     "metadata": {
      "application/vnd.databricks.v1+output": {
       "arguments": {},
       "data": "",
       "errorSummary": "Cancelled",
       "errorTraceType": "html",
       "metadata": {},
       "type": "ipynbError"
      }
     },
     "output_type": "display_data"
    }
   ],
   "source": [
    "a = 10\n",
    "b = 9\n",
    "\n",
    "while a<15 and b<16:\n",
    "    print(a,\"@\",b,\",\",end=\" \")\n",
    "    a -=1\n",
    "    b -=1. > Doubt"
   ]
  },
  {
   "cell_type": "markdown",
   "metadata": {
    "application/vnd.databricks.v1+cell": {
     "cellMetadata": {},
     "inputWidgets": {},
     "nuid": "fafcdf78-7d43-43dc-95f9-34e657071e00",
     "showTitle": false,
     "title": ""
    }
   },
   "source": [
    " Write programs to print the following series. 100,200,300........10000"
   ]
  },
  {
   "cell_type": "code",
   "execution_count": 0,
   "metadata": {
    "application/vnd.databricks.v1+cell": {
     "cellMetadata": {
      "byteLimit": 2048000,
      "rowLimit": 10000
     },
     "inputWidgets": {},
     "nuid": "ba7730b7-3875-40d5-a29d-98caf809330f",
     "showTitle": false,
     "title": ""
    }
   },
   "outputs": [
    {
     "output_type": "stream",
     "name": "stdout",
     "output_type": "stream",
     "text": [
      "100 200 300 400 500 600 700 800 900 1000 1100 1200 1300 1400 1500 1600 1700 1800 1900 2000 2100 2200 2300 2400 2500 2600 2700 2800 2900 3000 3100 3200 3300 3400 3500 3600 3700 3800 3900 4000 4100 4200 4300 4400 4500 4600 4700 4800 4900 5000 5100 5200 5300 5400 5500 5600 5700 5800 5900 6000 6100 6200 6300 6400 6500 6600 6700 6800 6900 7000 7100 7200 7300 7400 7500 7600 7700 7800 7900 8000 8100 8200 8300 8400 8500 8600 8700 8800 8900 9000 9100 9200 9300 9400 9500 9600 9700 9800 9900 10000 "
     ]
    }
   ],
   "source": [
    "for i in range (100,10100,100):\n",
    "    print(i,end=\" \")"
   ]
  },
  {
   "cell_type": "markdown",
   "metadata": {
    "application/vnd.databricks.v1+cell": {
     "cellMetadata": {},
     "inputWidgets": {},
     "nuid": "d6eb3045-199e-4cd7-8280-bfc99752dd03",
     "showTitle": false,
     "title": ""
    }
   },
   "source": [
    "23. Write programs to print the following series. 5^2, 7^2,9^2.....25^2"
   ]
  },
  {
   "cell_type": "code",
   "execution_count": 0,
   "metadata": {
    "application/vnd.databricks.v1+cell": {
     "cellMetadata": {
      "byteLimit": 2048000,
      "rowLimit": 10000
     },
     "inputWidgets": {},
     "nuid": "813bb1d9-56ce-4239-b1b7-f9afebbe67b8",
     "showTitle": false,
     "title": ""
    }
   },
   "outputs": [
    {
     "output_type": "stream",
     "name": "stdout",
     "output_type": "stream",
     "text": [
      "5 ^ 2 , 7 ^ 2 , 9 ^ 2 , 11 ^ 2 , 13 ^ 2 , 15 ^ 2 , 17 ^ 2 , 19 ^ 2 , 21 ^ 2 , 23 ^ 2 , 25 ^ 2 , "
     ]
    }
   ],
   "source": [
    "a=2\n",
    "for i in range (5,26,2):\n",
    "    print(i,\"^\",a, \",\",end=\" \" )"
   ]
  },
  {
   "cell_type": "markdown",
   "metadata": {
    "application/vnd.databricks.v1+cell": {
     "cellMetadata": {
      "byteLimit": 2048000,
      "rowLimit": 10000
     },
     "inputWidgets": {},
     "nuid": "0cfd643d-b983-4fcb-a7b9-f22cdcd5ad42",
     "showTitle": false,
     "title": ""
    }
   },
   "source": [
    "24. Write programs to print the following series. 5,10,5,10,5,10,5 for 7 times"
   ]
  },
  {
   "cell_type": "code",
   "execution_count": 0,
   "metadata": {
    "application/vnd.databricks.v1+cell": {
     "cellMetadata": {
      "byteLimit": 2048000,
      "rowLimit": 10000
     },
     "inputWidgets": {},
     "nuid": "8cdc9b4e-8d24-459c-8c79-38d0d2741dad",
     "showTitle": false,
     "title": ""
    }
   },
   "outputs": [
    {
     "output_type": "stream",
     "name": "stdout",
     "output_type": "stream",
     "text": [
      "5 * 4 , 5 * 3 , 5 * 2 , 5 * 1 , 5 * 0 , 5 * -1 , 5 * -2 , 5 * -3 , 5 * -4 , 5 * -5 , 5 * -6 , 5 * -7 , 5 * -8 , 5 * -9 , 5 * -10 , 5 * -11 , 5 * -12 , "
     ]
    }
   ],
   "source": [
    "start = 4\n",
    "end = -12\n",
    "step = -1\n",
    "a =5\n",
    "\n",
    "for num in range(start, end-1, step):\n",
    "    print(a,\"*\",num,\",\",end=\" \")"
   ]
  },
  {
   "cell_type": "markdown",
   "metadata": {
    "application/vnd.databricks.v1+cell": {
     "cellMetadata": {
      "byteLimit": 2048000,
      "rowLimit": 10000
     },
     "inputWidgets": {},
     "nuid": "71421b3c-45ee-4570-b948-d8ec2a2790de",
     "showTitle": false,
     "title": ""
    }
   },
   "source": [
    "6. Write programs to print the following series.\n",
    "1,even,3,even,5,even,.......35,even"
   ]
  },
  {
   "cell_type": "code",
   "execution_count": 0,
   "metadata": {
    "application/vnd.databricks.v1+cell": {
     "cellMetadata": {
      "byteLimit": 2048000,
      "rowLimit": 10000
     },
     "inputWidgets": {},
     "nuid": "c5cba7aa-6801-4ae5-ac19-e42e9ad008c7",
     "showTitle": false,
     "title": ""
    }
   },
   "outputs": [
    {
     "output_type": "stream",
     "name": "stdout",
     "output_type": "stream",
     "text": [
      "1 ,even , 3 ,even , 5 ,even , 7 ,even , 9 ,even , 11 ,even , 13 ,even , 15 ,even , 17 ,even , 19 ,even , 21 ,even , 23 ,even , 25 ,even , 27 ,even , 29 ,even , 31 ,even , 33 ,even , "
     ]
    }
   ],
   "source": [
    "for i in range (1,35):\n",
    "    if i%2==0:\n",
    "        print(\",even ,\", end=\" \")\n",
    "    else:\n",
    "        print(i,end=\" \")"
   ]
  },
  {
   "cell_type": "markdown",
   "metadata": {
    "application/vnd.databricks.v1+cell": {
     "cellMetadata": {},
     "inputWidgets": {},
     "nuid": "a8cabdd1-774e-4e12-9737-31828b0b868c",
     "showTitle": false,
     "title": ""
    }
   },
   "source": [
    "27. Write programs to print the following series. 1,2,factor of three,4,5,factor\n",
    "of three, 7,8,factor of three,..........22,23,factor of three"
   ]
  },
  {
   "cell_type": "code",
   "execution_count": 0,
   "metadata": {
    "application/vnd.databricks.v1+cell": {
     "cellMetadata": {
      "byteLimit": 2048000,
      "rowLimit": 10000
     },
     "inputWidgets": {},
     "nuid": "77e5ff59-5403-4d8b-8b7f-bb237cd28146",
     "showTitle": false,
     "title": ""
    }
   },
   "outputs": [
    {
     "output_type": "stream",
     "name": "stdout",
     "output_type": "stream",
     "text": [
      "1 2 ,factor of three , 4 5 ,factor of three , 7 8 ,factor of three , 10 11 ,factor of three , 13 14 ,factor of three , 16 17 ,factor of three , 19 20 ,factor of three , 22 23 "
     ]
    }
   ],
   "source": [
    "for i in range (1,24):\n",
    "    if i%3==0:\n",
    "        print(\",factor of three ,\", end=\" \")\n",
    "    else:\n",
    "        print(i,end=\" \")"
   ]
  },
  {
   "cell_type": "markdown",
   "metadata": {
    "application/vnd.databricks.v1+cell": {
     "cellMetadata": {},
     "inputWidgets": {},
     "nuid": "1c46afef-8d75-4ec3-af85-b83bdb00c349",
     "showTitle": false,
     "title": ""
    }
   },
   "source": [
    "8. Write programs to print the following series. 1,3, divisible by five, 7,9,\n",
    "11,13, divisible by five,.....21,23, divisible by five"
   ]
  },
  {
   "cell_type": "code",
   "execution_count": 0,
   "metadata": {
    "application/vnd.databricks.v1+cell": {
     "cellMetadata": {
      "byteLimit": 2048000,
      "rowLimit": 10000
     },
     "inputWidgets": {},
     "nuid": "609b7fab-f8f0-4a81-875c-9e5109a3d2ea",
     "showTitle": false,
     "title": ""
    }
   },
   "outputs": [
    {
     "output_type": "stream",
     "name": "stdout",
     "output_type": "stream",
     "text": [
      "1 3 ,divisible by five , 7 9 11 13 ,divisible by five , 17 19 21 23 "
     ]
    }
   ],
   "source": [
    "for i in range (1,24,2):\n",
    "    if i%5==0:\n",
    "        print(\",divisible by five ,\", end=\" \")\n",
    "    else:\n",
    "        print(i,end=\" \")"
   ]
  },
  {
   "cell_type": "code",
   "execution_count": 0,
   "metadata": {
    "application/vnd.databricks.v1+cell": {
     "cellMetadata": {},
     "inputWidgets": {},
     "nuid": "b2485d30-daa9-42b5-9f76-250c4adf7655",
     "showTitle": false,
     "title": ""
    }
   },
   "outputs": [],
   "source": []
  }
 ],
 "metadata": {
  "application/vnd.databricks.v1+notebook": {
   "dashboards": [],
   "language": "python",
   "notebookMetadata": {
    "pythonIndentUnit": 4
   },
   "notebookName": "LogicBuilding",
   "widgets": {}
  }
 },
 "nbformat": 4,
 "nbformat_minor": 0
}
