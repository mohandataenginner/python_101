{
 "cells": [
  {
   "cell_type": "markdown",
   "metadata": {
    "application/vnd.databricks.v1+cell": {
     "cellMetadata": {},
     "inputWidgets": {},
     "nuid": "5228922c-5078-456a-be91-fb6d734886e5",
     "showTitle": false,
     "title": ""
    }
   },
   "source": [
    "1)Check for Even AND Positive Number\n",
    "Write a Scala function to check if a given number is both even and positive"
   ]
  },
  {
   "cell_type": "code",
   "execution_count": 0,
   "metadata": {
    "application/vnd.databricks.v1+cell": {
     "cellMetadata": {
      "byteLimit": 2048000,
      "rowLimit": 10000
     },
     "inputWidgets": {},
     "nuid": "ee1d711f-35c6-4511-936c-770b5b1ecd94",
     "showTitle": false,
     "title": ""
    }
   },
   "outputs": [
    {
     "output_type": "stream",
     "name": "stdout",
     "output_type": "stream",
     "text": [
      "Given integer is positive and even number\n"
     ]
    }
   ],
   "source": [
    "a  =14\n",
    "if a>0 and a%2==0:\n",
    "    print(\"Given integer is positive and even number\")\n",
    "else:\n",
    "    print(\"given number is not postive and not even number\")"
   ]
  },
  {
   "cell_type": "markdown",
   "metadata": {
    "application/vnd.databricks.v1+cell": {
     "cellMetadata": {},
     "inputWidgets": {},
     "nuid": "905763aa-f607-4c41-afb4-32b04d9a5622",
     "showTitle": false,
     "title": ""
    }
   },
   "source": [
    "2)Range Check with OR\n",
    "Create a Scala program to determine if a given value is either less than -10 or greater than 10\n"
   ]
  },
  {
   "cell_type": "code",
   "execution_count": 0,
   "metadata": {
    "application/vnd.databricks.v1+cell": {
     "cellMetadata": {
      "byteLimit": 2048000,
      "rowLimit": 10000
     },
     "inputWidgets": {},
     "nuid": "ffe3566c-a676-4d63-bd80-592f82a9f46f",
     "showTitle": false,
     "title": ""
    }
   },
   "outputs": [
    {
     "output_type": "stream",
     "name": "stdout",
     "output_type": "stream",
     "text": [
      "The given number is in the range\n"
     ]
    }
   ],
   "source": [
    "a = -15\n",
    "if a<-10 or a>10:\n",
    "    print(\"The given number is in the range\")\n",
    "else:\n",
    "    print(\"The givne number is not in the range\")"
   ]
  },
  {
   "cell_type": "markdown",
   "metadata": {
    "application/vnd.databricks.v1+cell": {
     "cellMetadata": {},
     "inputWidgets": {},
     "nuid": "fa8bbaac-88f2-48f8-a85a-4dd40251dcb9",
     "showTitle": false,
     "title": ""
    }
   },
   "source": [
    "Odd Number Check with AND\n",
    "Implement a Scala function to check if a given number is odd and not divisible by 3."
   ]
  },
  {
   "cell_type": "code",
   "execution_count": 0,
   "metadata": {
    "application/vnd.databricks.v1+cell": {
     "cellMetadata": {
      "byteLimit": 2048000,
      "rowLimit": 10000
     },
     "inputWidgets": {},
     "nuid": "697cadfd-3d21-4f0d-b75d-e17cb3b98227",
     "showTitle": false,
     "title": ""
    }
   },
   "outputs": [
    {
     "output_type": "stream",
     "name": "stdout",
     "output_type": "stream",
     "text": [
      "the given number is odd and not divisble by 3\n"
     ]
    }
   ],
   "source": [
    "a=27\n",
    "if a%2!=0 and a%3!=3:\n",
    "    print(\"the given number is odd and not divisble by 3\")\n",
    "\n",
    "else:\n",
    "    print(\"the given number is not odd and not divisble by 3\") "
   ]
  },
  {
   "cell_type": "markdown",
   "metadata": {
    "application/vnd.databricks.v1+cell": {
     "cellMetadata": {},
     "inputWidgets": {},
     "nuid": "aed2544e-b676-49dc-b5dc-64bdf8acee1a",
     "showTitle": false,
     "title": ""
    }
   },
   "source": [
    "4)Divisibility by 4 OR 6:\n",
    "Write a Scala program to check if a given number is divisible by either 4 or 6."
   ]
  },
  {
   "cell_type": "code",
   "execution_count": 0,
   "metadata": {
    "application/vnd.databricks.v1+cell": {
     "cellMetadata": {
      "byteLimit": 2048000,
      "rowLimit": 10000
     },
     "inputWidgets": {},
     "nuid": "6c5be713-574d-4a03-ad5e-9aed350ac1ac",
     "showTitle": false,
     "title": ""
    }
   },
   "outputs": [
    {
     "output_type": "stream",
     "name": "stdout",
     "output_type": "stream",
     "text": [
      "The given number is divisible by 4 or 6\n"
     ]
    }
   ],
   "source": [
    "a= 18\n",
    "if a%4==0 or a%6==0:\n",
    "    print(\"The given number is divisible by 4 or 6\")\n",
    "else:\n",
    "    print(\"The given number is not divisible by 4 or 6\")"
   ]
  },
  {
   "cell_type": "markdown",
   "metadata": {
    "application/vnd.databricks.v1+cell": {
     "cellMetadata": {},
     "inputWidgets": {},
     "nuid": "40c7200e-8aff-4275-9fec-e886589a0a0e",
     "showTitle": false,
     "title": ""
    }
   },
   "source": [
    "5)Eligibility for Voting OR Driving:\n",
    "Create a Scala program to check if a person is eligible to vote (age greater than or equal to 18) or\n",
    "eligible to drive (age greater than or equal to 16)."
   ]
  },
  {
   "cell_type": "code",
   "execution_count": 0,
   "metadata": {
    "application/vnd.databricks.v1+cell": {
     "cellMetadata": {
      "byteLimit": 2048000,
      "rowLimit": 10000
     },
     "inputWidgets": {},
     "nuid": "aedfb6cf-8f08-4bf8-a23e-d7413116d90d",
     "showTitle": false,
     "title": ""
    }
   },
   "outputs": [
    {
     "output_type": "stream",
     "name": "stdout",
     "output_type": "stream",
     "text": [
      "The user is eligible for Vote\n"
     ]
    }
   ],
   "source": [
    "age = 20\n",
    "if age>18:\n",
    "    print(\"The user is eligible for Vote\")\n",
    "elif age>16:\n",
    "    print(\"The user is eligibale for Dirving\")\n",
    "elif age >16 or age>18:\n",
    "    print(\"the user is eligiber either diving or vote\")\n",
    "else:\n",
    "    print(\"The user is not eligible is drive aor vote\")"
   ]
  },
  {
   "cell_type": "markdown",
   "metadata": {
    "application/vnd.databricks.v1+cell": {
     "cellMetadata": {},
     "inputWidgets": {},
     "nuid": "4397d100-1b27-449e-a1f3-42f38dfa2f08",
     "showTitle": false,
     "title": ""
    }
   },
   "source": [
    "6)Multiple Range Check:\n",
    "Write a Scala function to check if a given number is in the range [1, 10] or [20, 30]"
   ]
  },
  {
   "cell_type": "code",
   "execution_count": 0,
   "metadata": {
    "application/vnd.databricks.v1+cell": {
     "cellMetadata": {
      "byteLimit": 2048000,
      "rowLimit": 10000
     },
     "inputWidgets": {},
     "nuid": "fb4a9ec7-7282-4005-bb47-a2f798be4e0e",
     "showTitle": false,
     "title": ""
    }
   },
   "outputs": [
    {
     "output_type": "stream",
     "name": "stdout",
     "output_type": "stream",
     "text": [
      "Number is in range\n"
     ]
    }
   ],
   "source": [
    "num = 25\n",
    "if num>1  or num <10 or number>20 or number>30:\n",
    "    print(\"Number is in range\")\n",
    "else:\n",
    "    print(\"number is not in range \")"
   ]
  },
  {
   "cell_type": "markdown",
   "metadata": {
    "application/vnd.databricks.v1+cell": {
     "cellMetadata": {},
     "inputWidgets": {},
     "nuid": "f4880027-28fe-4543-985a-7ae356b495e8",
     "showTitle": false,
     "title": ""
    }
   },
   "source": [
    "7)Check for Negative AND Odd Number:\n",
    "Implement a Scala program to check if a given number is both negative and odd."
   ]
  },
  {
   "cell_type": "code",
   "execution_count": 0,
   "metadata": {
    "application/vnd.databricks.v1+cell": {
     "cellMetadata": {
      "byteLimit": 2048000,
      "rowLimit": 10000
     },
     "inputWidgets": {},
     "nuid": "6ca15174-a069-4c2e-b8af-af1a4e1ba5ea",
     "showTitle": false,
     "title": ""
    }
   },
   "outputs": [
    {
     "output_type": "stream",
     "name": "stdout",
     "output_type": "stream",
     "text": [
      "The given number is Negative and odd number\n"
     ]
    }
   ],
   "source": [
    "a  =-7\n",
    "if a<0 and a%2!=0:\n",
    "    print(\"The given number is Negative and odd number\")\n",
    "else:\n",
    "    print(\"The given number is not Negative and odd number\")\n"
   ]
  },
  {
   "cell_type": "markdown",
   "metadata": {
    "application/vnd.databricks.v1+cell": {
     "cellMetadata": {},
     "inputWidgets": {},
     "nuid": "a4693779-9e4b-4169-a188-894cdad9e9b5",
     "showTitle": false,
     "title": ""
    }
   },
   "source": [
    "8)Eligibility for Senior Discount OR Student Discount:\n",
    "Create a Scala program to check if a person is eligible for a senior citizen discount (age greater than\n",
    "60) or a student discount (age less than 25).\n"
   ]
  },
  {
   "cell_type": "code",
   "execution_count": 0,
   "metadata": {
    "application/vnd.databricks.v1+cell": {
     "cellMetadata": {
      "byteLimit": 2048000,
      "rowLimit": 10000
     },
     "inputWidgets": {},
     "nuid": "84e5d772-30d2-407b-977d-227e49de3a5f",
     "showTitle": false,
     "title": ""
    }
   },
   "outputs": [
    {
     "output_type": "stream",
     "name": "stdout",
     "output_type": "stream",
     "text": [
      "The user eligible for senior discount\n"
     ]
    }
   ],
   "source": [
    "age = 63\n",
    "if age>60:\n",
    "    print(\"The user eligible for senior discount\")\n",
    "elif age<25:\n",
    "    print(\"The user is eligible for student discount\")\n",
    "else:\n",
    "    print(\"NO discount\")"
   ]
  },
  {
   "cell_type": "markdown",
   "metadata": {
    "application/vnd.databricks.v1+cell": {
     "cellMetadata": {},
     "inputWidgets": {},
     "nuid": "1955f732-32f8-4c1b-b027-bcac1ceff92d",
     "showTitle": false,
     "title": ""
    }
   },
   "source": [
    "9)Divisibility by 5 AND 7:\n",
    "Write a Scala function to check if a given number is divisible by both 5 and 7"
   ]
  },
  {
   "cell_type": "code",
   "execution_count": 0,
   "metadata": {
    "application/vnd.databricks.v1+cell": {
     "cellMetadata": {
      "byteLimit": 2048000,
      "rowLimit": 10000
     },
     "inputWidgets": {},
     "nuid": "e696a95c-616d-4050-9e60-d653b360f877",
     "showTitle": false,
     "title": ""
    }
   },
   "outputs": [
    {
     "output_type": "stream",
     "name": "stdout",
     "output_type": "stream",
     "text": [
      " the number is divisbile by 5,7\n"
     ]
    }
   ],
   "source": [
    "num = 35\n",
    "\n",
    "if num%5==0 and num%7==0:\n",
    "    print(\" the number is divisbile by 5,7\")\n",
    "else:\n",
    "     print(\" the number is not divisbile by 5,7\")"
   ]
  },
  {
   "cell_type": "markdown",
   "metadata": {
    "application/vnd.databricks.v1+cell": {
     "cellMetadata": {},
     "inputWidgets": {},
     "nuid": "93f5aca2-246e-412e-af1c-960802a6e5e4",
     "showTitle": false,
     "title": ""
    }
   },
   "source": [
    "10)Check for Non-Negative OR Even Number:\n",
    "Create a Scala program to check if a given number is either non-negative or even."
   ]
  },
  {
   "cell_type": "code",
   "execution_count": 0,
   "metadata": {
    "application/vnd.databricks.v1+cell": {
     "cellMetadata": {
      "byteLimit": 2048000,
      "rowLimit": 10000
     },
     "inputWidgets": {},
     "nuid": "eeea4642-bdb2-4bc0-87b7-52eec834b3d0",
     "showTitle": false,
     "title": ""
    }
   },
   "outputs": [
    {
     "output_type": "stream",
     "name": "stdout",
     "output_type": "stream",
     "text": [
      "The given number is not postive or even\n"
     ]
    }
   ],
   "source": [
    "number=-8\n",
    "if a>0 or a%2==0:\n",
    "    print(\"The given number is postive or even\")\n",
    "else:\n",
    "   print(\"The given number is not postive or even\")\n",
    "    "
   ]
  },
  {
   "cell_type": "markdown",
   "metadata": {
    "application/vnd.databricks.v1+cell": {
     "cellMetadata": {},
     "inputWidgets": {},
     "nuid": "80ea3ac6-2e9e-414f-9ac6-a6a7914fb659",
     "showTitle": false,
     "title": ""
    }
   },
   "source": [
    "2)Eligibility for Discount OR Free Shipping:\n",
    "Create a Scala program to check if a customer is eligible for a discount (purchase amount greater\n",
    "than 150) or qualifies for free shipping (purchase amount greater than 100)."
   ]
  },
  {
   "cell_type": "code",
   "execution_count": 0,
   "metadata": {
    "application/vnd.databricks.v1+cell": {
     "cellMetadata": {
      "byteLimit": 2048000,
      "rowLimit": 10000
     },
     "inputWidgets": {},
     "nuid": "21f9c7bf-e484-483d-a468-13681c6df9f8",
     "showTitle": false,
     "title": ""
    }
   },
   "outputs": [
    {
     "output_type": "stream",
     "name": "stdout",
     "output_type": "stream",
     "text": [
      "The user is availabe for free shipping\n"
     ]
    }
   ],
   "source": [
    "purchase_amount=120\n",
    "if purchase_amount>100 and purchase_amount>150:\n",
    "    print(\"The user is eligible for Discount and free shipping\")\n",
    "elif purchase_amount>100 and purchase_amount<150 :\n",
    "    print(\"The user is availabe for free shipping\")\n",
    "else:\n",
    "    print(\"No discount or freeshipping is available\")\n"
   ]
  },
  {
   "cell_type": "markdown",
   "metadata": {
    "application/vnd.databricks.v1+cell": {
     "cellMetadata": {},
     "inputWidgets": {},
     "nuid": "d44078f4-a508-4869-8f72-3590318f2cd3",
     "showTitle": false,
     "title": ""
    }
   },
   "source": [
    "13)Divisibility by 3 OR 8:\n",
    "Write a Scala function to check if a given number is divisible by either 3 or 8"
   ]
  },
  {
   "cell_type": "code",
   "execution_count": 0,
   "metadata": {
    "application/vnd.databricks.v1+cell": {
     "cellMetadata": {
      "byteLimit": 2048000,
      "rowLimit": 10000
     },
     "inputWidgets": {},
     "nuid": "21632130-0383-40ca-a9e1-c17e4594dae9",
     "showTitle": false,
     "title": ""
    }
   },
   "outputs": [
    {
     "output_type": "stream",
     "name": "stdout",
     "output_type": "stream",
     "text": [
      "The number is divisble by 3, 8\n"
     ]
    }
   ],
   "source": [
    "a = 24\n",
    "if a%3==0 or a%8==0:\n",
    "    print(\"The number is divisble by 3, 8\")\n",
    "else:\n",
    "    print(\"The number is not divisble by 3, 8\")"
   ]
  },
  {
   "cell_type": "markdown",
   "metadata": {
    "application/vnd.databricks.v1+cell": {
     "cellMetadata": {},
     "inputWidgets": {},
     "nuid": "9ba3ed8f-55ee-420c-bdd6-8274142d87c8",
     "showTitle": false,
     "title": ""
    }
   },
   "source": [
    "14)Check for Non-Positive AND Even Number:\n",
    "Implement a Scala program to check if a given number is both non-positive and even."
   ]
  },
  {
   "cell_type": "code",
   "execution_count": 0,
   "metadata": {
    "application/vnd.databricks.v1+cell": {
     "cellMetadata": {
      "byteLimit": 2048000,
      "rowLimit": 10000
     },
     "inputWidgets": {},
     "nuid": "fc2c3739-bf9f-4a77-abf2-c9472bd439bd",
     "showTitle": false,
     "title": ""
    }
   },
   "outputs": [
    {
     "output_type": "stream",
     "name": "stdout",
     "output_type": "stream",
     "text": [
      "The given number is negative and even numebr\n"
     ]
    }
   ],
   "source": [
    "a = -6\n",
    "if a<0 and a%2==0:\n",
    "    print(\"The given number is negative and even numebr\")\n",
    "else:\n",
    "    print(\"The given number is not negative and even numebr\")"
   ]
  },
  {
   "cell_type": "markdown",
   "metadata": {
    "application/vnd.databricks.v1+cell": {
     "cellMetadata": {},
     "inputWidgets": {},
     "nuid": "6c6979b7-2c93-451c-aabc-fe620846004f",
     "showTitle": false,
     "title": ""
    }
   },
   "source": [
    "15)Age Group Classification with AND:\n",
    "Create a Scala program to classify a person's age group. Classify them as a child (less than 13),\n",
    "teenager (between 13 and 19), and an adult (20 and above) using both logical AND and OR"
   ]
  },
  {
   "cell_type": "code",
   "execution_count": 0,
   "metadata": {
    "application/vnd.databricks.v1+cell": {
     "cellMetadata": {
      "byteLimit": 2048000,
      "rowLimit": 10000
     },
     "inputWidgets": {},
     "nuid": "ba246924-f83a-4e48-95ae-604c4959d39b",
     "showTitle": false,
     "title": ""
    }
   },
   "outputs": [
    {
     "output_type": "stream",
     "name": "stdout",
     "output_type": "stream",
     "text": [
      "The user is teenager\n"
     ]
    }
   ],
   "source": [
    "age =15\n",
    "if age <13:\n",
    "    print(\"The user is child\")\n",
    "elif age >=13 or age>=19:\n",
    "    print(\"The user is teenager\")\n",
    "else:\n",
    "    print(\"The user is adult\")"
   ]
  },
  {
   "cell_type": "markdown",
   "metadata": {
    "application/vnd.databricks.v1+cell": {
     "cellMetadata": {},
     "inputWidgets": {},
     "nuid": "8cab7dd7-b490-4db9-9755-ba0b57a2eafe",
     "showTitle": false,
     "title": ""
    }
   },
   "source": [
    "16)Check for Divisibility by 2 OR 5:\n",
    "Write a Scala function to check if a given number is divisible by either 2 or 5."
   ]
  },
  {
   "cell_type": "code",
   "execution_count": 0,
   "metadata": {
    "application/vnd.databricks.v1+cell": {
     "cellMetadata": {
      "byteLimit": 2048000,
      "rowLimit": 10000
     },
     "inputWidgets": {},
     "nuid": "6e21fb4a-babb-4d23-8470-5ae82be1e60f",
     "showTitle": false,
     "title": ""
    }
   },
   "outputs": [
    {
     "output_type": "stream",
     "name": "stdout",
     "output_type": "stream",
     "text": [
      "The number is divisible by 2 or 5\n"
     ]
    }
   ],
   "source": [
    "num = 25\n",
    "\n",
    "if num%2==0  or num%5==0:\n",
    "    print(\"The number is divisible by 2 or 5\")\n",
    "else:\n",
    "    print(\"The number is not divisible by 2 or 5\")"
   ]
  },
  {
   "cell_type": "markdown",
   "metadata": {
    "application/vnd.databricks.v1+cell": {
     "cellMetadata": {},
     "inputWidgets": {},
     "nuid": "daf2f3ef-0b42-492b-9fa7-f96dc22c57d2",
     "showTitle": false,
     "title": ""
    }
   },
   "source": [
    "17)Eligibility for Senior Discount AND Student Discount:\n",
    "Create a Scala program to check if a person is eligible for both a senior citizen discount (age greater\n",
    "than 60) and a student discount (age less than 25)"
   ]
  },
  {
   "cell_type": "code",
   "execution_count": 0,
   "metadata": {
    "application/vnd.databricks.v1+cell": {
     "cellMetadata": {
      "byteLimit": 2048000,
      "rowLimit": 10000
     },
     "inputWidgets": {},
     "nuid": "b27fd316-873a-4ebb-b474-266f68bedd59",
     "showTitle": false,
     "title": ""
    }
   },
   "outputs": [
    {
     "output_type": "stream",
     "name": "stdout",
     "output_type": "stream",
     "text": [
      "user is availabe for senior  discount\n"
     ]
    }
   ],
   "source": [
    "age = 70\n",
    "if age>60 :\n",
    "    print(\"user is availabe for senior  discount\")\n",
    "elif age < 25:\n",
    "    print(\"user is availabe for student discount\")\n",
    "else:\n",
    "    print(\"the user is not availbe for discount\")"
   ]
  },
  {
   "cell_type": "markdown",
   "metadata": {
    "application/vnd.databricks.v1+cell": {
     "cellMetadata": {},
     "inputWidgets": {},
     "nuid": "5fb38c06-3735-4245-8b9e-abbdc0b91b6d",
     "showTitle": false,
     "title": ""
    }
   },
   "source": [
    "19)Check for Multiple of 3 AND 7:\n",
    "Implement a Scala function to check if a given number is both a multiple of 3 and 7."
   ]
  },
  {
   "cell_type": "code",
   "execution_count": 0,
   "metadata": {
    "application/vnd.databricks.v1+cell": {
     "cellMetadata": {
      "byteLimit": 2048000,
      "rowLimit": 10000
     },
     "inputWidgets": {},
     "nuid": "5a8a741e-ca23-43e4-b45e-00ebb01825a1",
     "showTitle": false,
     "title": ""
    }
   },
   "outputs": [
    {
     "output_type": "stream",
     "name": "stdout",
     "output_type": "stream",
     "text": [
      "The numer is muiltiple by 3 and 7\n"
     ]
    }
   ],
   "source": [
    "a = 21\n",
    "if a%3==0 and a%7==0:\n",
    "    print(\"The numer is muiltiple by 3 and 7\")\n",
    "\n",
    "else:\n",
    "    print(\"The number is not multiple by 3 and 7\")"
   ]
  },
  {
   "cell_type": "markdown",
   "metadata": {
    "application/vnd.databricks.v1+cell": {
     "cellMetadata": {},
     "inputWidgets": {},
     "nuid": "5eead4aa-72db-4176-8698-10bd812aa6a0",
     "showTitle": false,
     "title": ""
    }
   },
   "source": [
    "20)Divisibility by 5 OR 9:\n",
    "Write a Scala program to check if a given number is divisible by either 5 or 9"
   ]
  },
  {
   "cell_type": "code",
   "execution_count": 0,
   "metadata": {
    "application/vnd.databricks.v1+cell": {
     "cellMetadata": {
      "byteLimit": 2048000,
      "rowLimit": 10000
     },
     "inputWidgets": {},
     "nuid": "75d37ba5-717a-47b1-b64d-44df2aec6358",
     "showTitle": false,
     "title": ""
    }
   },
   "outputs": [
    {
     "output_type": "stream",
     "name": "stdout",
     "output_type": "stream",
     "text": [
      "the number is divisible by 5 and 9\n"
     ]
    }
   ],
   "source": [
    "a =45\n",
    "if a%5==0 or a%9==0:\n",
    "    print(\"the number is divisible by 5 and 9\")\n",
    "else:\n",
    "    print(\"the number is not divisible by 5 and 9\")"
   ]
  },
  {
   "cell_type": "markdown",
   "metadata": {
    "application/vnd.databricks.v1+cell": {
     "cellMetadata": {},
     "inputWidgets": {},
     "nuid": "e7031bd8-1591-44a7-b5d2-4e61840ed352",
     "showTitle": false,
     "title": ""
    }
   },
   "source": [
    "21)Check for Odd AND Not Divisible by 4:\n",
    "Create a Scala program to check if a given number is both odd and not divisible by 4"
   ]
  },
  {
   "cell_type": "code",
   "execution_count": 0,
   "metadata": {
    "application/vnd.databricks.v1+cell": {
     "cellMetadata": {
      "byteLimit": 2048000,
      "rowLimit": 10000
     },
     "inputWidgets": {},
     "nuid": "462f1686-fc8a-4f52-aef7-1d4137f407da",
     "showTitle": false,
     "title": ""
    }
   },
   "outputs": [
    {
     "output_type": "stream",
     "name": "stdout",
     "output_type": "stream",
     "text": [
      "the given number is odd and not divisble by 4\n"
     ]
    }
   ],
   "source": [
    "a = 15\n",
    "\n",
    "if a%2!=0 and a%4!=0:\n",
    "    print(\"the given number is odd and not divisble by 4\")\n",
    "else:\n",
    "    print(\"the given number is not odd and not divisble by 4\")"
   ]
  },
  {
   "cell_type": "markdown",
   "metadata": {
    "application/vnd.databricks.v1+cell": {
     "cellMetadata": {},
     "inputWidgets": {},
     "nuid": "cc504d86-2926-4724-8250-7947d1cc24f6",
     "showTitle": false,
     "title": ""
    }
   },
   "source": [
    "22)Check for Divisibility by 3 AND 5:\n",
    "Write a Scala function to check if a given number is divisible by both 3 and 5"
   ]
  },
  {
   "cell_type": "code",
   "execution_count": 0,
   "metadata": {
    "application/vnd.databricks.v1+cell": {
     "cellMetadata": {
      "byteLimit": 2048000,
      "rowLimit": 10000
     },
     "inputWidgets": {},
     "nuid": "786499d5-b78b-4768-a7fd-8b1b0ccf6f6d",
     "showTitle": false,
     "title": ""
    }
   },
   "outputs": [
    {
     "output_type": "stream",
     "name": "stdout",
     "output_type": "stream",
     "text": [
      "the given number is divisible by 3 and 5\n"
     ]
    }
   ],
   "source": [
    "a = 15\n",
    "if a%3==0 and a%5==0:\n",
    "    print(\"the given number is divisible by 3 and 5\")\n",
    "else:\n",
    "    print(\"the given number is not divisible by 3 and 5\")\n",
    "    "
   ]
  },
  {
   "cell_type": "markdown",
   "metadata": {
    "application/vnd.databricks.v1+cell": {
     "cellMetadata": {},
     "inputWidgets": {},
     "nuid": "c59cfdd8-b9d3-4a2c-b5ed-c8ecbfd32cbd",
     "showTitle": false,
     "title": ""
    }
   },
   "source": [
    "23)Eligibility for Discount OR Membership Benefits:\n",
    "Create a Scala program to check if a customer is eligible for a discount (purchase amount greater\n",
    "than 200) or qualifies for membership benefits (loyalty card available)."
   ]
  },
  {
   "cell_type": "code",
   "execution_count": 0,
   "metadata": {
    "application/vnd.databricks.v1+cell": {
     "cellMetadata": {
      "byteLimit": 2048000,
      "rowLimit": 10000
     },
     "inputWidgets": {},
     "nuid": "97761335-13a5-4210-9605-9529f3c02778",
     "showTitle": false,
     "title": ""
    }
   },
   "outputs": [
    {
     "output_type": "stream",
     "name": "stdout",
     "output_type": "stream",
     "text": [
      "user qualify discount or memebership benifts\n"
     ]
    }
   ],
   "source": [
    "amt = 180\n",
    "loyal_card = True\n",
    "\n",
    "if amt>200 or loyal_card==True:\n",
    "    print(\"user qualify discount or memebership benifts\")\n",
    "else:\n",
    "    print(\"no  benifts\")"
   ]
  },
  {
   "cell_type": "markdown",
   "metadata": {
    "application/vnd.databricks.v1+cell": {
     "cellMetadata": {},
     "inputWidgets": {},
     "nuid": "af07ec8c-a799-44ec-8c33-22ae1efa8cc7",
     "showTitle": false,
     "title": ""
    }
   },
   "source": [
    "24)Divisibility by 2 OR 3:\n",
    "Write a Scala function to check if a given number is divisible by either 2 or 3."
   ]
  },
  {
   "cell_type": "code",
   "execution_count": 0,
   "metadata": {
    "application/vnd.databricks.v1+cell": {
     "cellMetadata": {
      "byteLimit": 2048000,
      "rowLimit": 10000
     },
     "inputWidgets": {},
     "nuid": "7d2892fc-a59e-4c4a-81bd-70d297d6ea80",
     "showTitle": false,
     "title": ""
    }
   },
   "outputs": [
    {
     "output_type": "stream",
     "name": "stdout",
     "output_type": "stream",
     "text": [
      "A is divisible by 2 or 3\n"
     ]
    }
   ],
   "source": [
    "a = 9\n",
    "if a%2==0 or a%3==0:\n",
    "    print(\"A is divisible by 2 or 3\")\n",
    "else:\n",
    "    print(\"A number is not divisble by 2 or 3\")"
   ]
  },
  {
   "cell_type": "markdown",
   "metadata": {
    "application/vnd.databricks.v1+cell": {
     "cellMetadata": {},
     "inputWidgets": {},
     "nuid": "8f3190de-4ec9-46bc-9e03-dbdcbebccec9",
     "showTitle": false,
     "title": ""
    }
   },
   "source": [
    "25)Check for Positive AND Not Divisible by 3:\n",
    "Implement a Scala program to check if a given number is positive and not divisible by 3."
   ]
  },
  {
   "cell_type": "code",
   "execution_count": 0,
   "metadata": {
    "application/vnd.databricks.v1+cell": {
     "cellMetadata": {
      "byteLimit": 2048000,
      "rowLimit": 10000
     },
     "inputWidgets": {},
     "nuid": "bbd7290d-e002-4427-b8fe-013c1f4d23e9",
     "showTitle": false,
     "title": ""
    }
   },
   "outputs": [
    {
     "output_type": "stream",
     "name": "stdout",
     "output_type": "stream",
     "text": [
      "The number is positive and not divisible by 3\n"
     ]
    }
   ],
   "source": [
    "a = 7\n",
    "\n",
    "if a > 0 and a%3!=0:\n",
    "    print(\"The number is positive and not divisible by 3\")\n",
    "else:\n",
    "    print(\"The number is not positive and not divisible by 3\")\n"
   ]
  },
  {
   "cell_type": "markdown",
   "metadata": {
    "application/vnd.databricks.v1+cell": {
     "cellMetadata": {},
     "inputWidgets": {},
     "nuid": "0a0bbf50-56ab-4548-8e31-4c5a53f73b1f",
     "showTitle": false,
     "title": ""
    }
   },
   "source": [
    "26)Eligibility for Senior Discount AND Not a New Customer:\n",
    "Create a Scala program to check if a person is eligible for a senior citizen discount (age greater than\n",
    "65) and is not a new customer"
   ]
  },
  {
   "cell_type": "code",
   "execution_count": 0,
   "metadata": {
    "application/vnd.databricks.v1+cell": {
     "cellMetadata": {
      "byteLimit": 2048000,
      "rowLimit": 10000
     },
     "inputWidgets": {},
     "nuid": "c958e895-4d9f-42f5-adcb-8008b6b79acb",
     "showTitle": false,
     "title": ""
    }
   },
   "outputs": [
    {
     "output_type": "stream",
     "name": "stdout",
     "output_type": "stream",
     "text": [
      "the customer is avilabe for senior citizen for dusocunt\n"
     ]
    }
   ],
   "source": [
    "age = 70\n",
    "new_customer= False\n",
    "\n",
    "if age>65 and new_customer==False:\n",
    "    print(\"the customer is avilabe for senior citizen for dusocunt\")\n",
    "else:\n",
    "    print(\"the customer is not avilabe for senior citizen for dusocunt\")\n"
   ]
  },
  {
   "cell_type": "markdown",
   "metadata": {
    "application/vnd.databricks.v1+cell": {
     "cellMetadata": {},
     "inputWidgets": {},
     "nuid": "1e9d6307-cb5a-47a2-a145-3f22bb8d450f",
     "showTitle": false,
     "title": ""
    }
   },
   "source": [
    "29)Check for Non-Negative AND Not Divisible by 7:\n",
    "Implement a Scala program to check if a given number is non-negative and not divisible by 7."
   ]
  },
  {
   "cell_type": "code",
   "execution_count": 0,
   "metadata": {
    "application/vnd.databricks.v1+cell": {
     "cellMetadata": {
      "byteLimit": 2048000,
      "rowLimit": 10000
     },
     "inputWidgets": {},
     "nuid": "425209ea-9bb3-483d-9294-b2058a1395b2",
     "showTitle": false,
     "title": ""
    }
   },
   "outputs": [
    {
     "output_type": "stream",
     "name": "stdout",
     "output_type": "stream",
     "text": [
      "The number is not positive and not divisible byt 7\n"
     ]
    }
   ],
   "source": [
    "number = 14\n",
    "if a>0 and a%7!=0:\n",
    "    print(\"The number is positive and not divisible byt 7\")\n",
    "else:\n",
    "    print(\"The number is not positive and not divisible byt 7\")\n"
   ]
  },
  {
   "cell_type": "markdown",
   "metadata": {
    "application/vnd.databricks.v1+cell": {
     "cellMetadata": {},
     "inputWidgets": {},
     "nuid": "04118c01-615d-4b97-b250-a876ef9bfac4",
     "showTitle": false,
     "title": ""
    }
   },
   "source": [
    "30)Eligibility for Student Discount OR Free Trial:\n",
    "Write a Scala program to check if a person is eligible for a student discount (age less than 25) or is\n",
    "eligible for a free trial."
   ]
  },
  {
   "cell_type": "code",
   "execution_count": 0,
   "metadata": {
    "application/vnd.databricks.v1+cell": {
     "cellMetadata": {
      "byteLimit": 2048000,
      "rowLimit": 10000
     },
     "inputWidgets": {},
     "nuid": "f8b9cbf8-ee03-42f0-98c6-cec44c3b3bad",
     "showTitle": false,
     "title": ""
    }
   },
   "outputs": [
    {
     "output_type": "stream",
     "name": "stdout",
     "output_type": "stream",
     "text": [
      "student is availabe for discount or free trail\n"
     ]
    }
   ],
   "source": [
    "age =23\n",
    "free_trail = True\n",
    "\n",
    "if age <25 or free_trail ==True:\n",
    "    print(\"student is availabe for discount or free trail\")\n",
    "else:\n",
    "    print(\"student is not availabe for discount or free trail\")\n",
    "\n"
   ]
  },
  {
   "cell_type": "markdown",
   "metadata": {
    "application/vnd.databricks.v1+cell": {
     "cellMetadata": {},
     "inputWidgets": {},
     "nuid": "37800962-1cd7-4db1-8a80-4c0656b1808a",
     "showTitle": false,
     "title": ""
    }
   },
   "source": [
    "31)Check for Divisibility by 4 OR 6:\n",
    "Create a Scala function to check if a given number is divisible by either 4 or 6"
   ]
  },
  {
   "cell_type": "code",
   "execution_count": 0,
   "metadata": {
    "application/vnd.databricks.v1+cell": {
     "cellMetadata": {
      "byteLimit": 2048000,
      "rowLimit": 10000
     },
     "inputWidgets": {},
     "nuid": "18e1cc1f-cdee-4a5e-bdf6-6b5fec3f4764",
     "showTitle": false,
     "title": ""
    }
   },
   "outputs": [
    {
     "output_type": "stream",
     "name": "stdout",
     "output_type": "stream",
     "text": [
      "the number is divisble by 4 or 6 \n"
     ]
    }
   ],
   "source": [
    "a = 24\n",
    "if a%4==0 or a%6==0:\n",
    "    print(\"the number is divisble by 4 or 6 \")\n",
    "else:\n",
    "    print(\"the number is not divisble by 4 or 6 \")"
   ]
  },
  {
   "cell_type": "code",
   "execution_count": 0,
   "metadata": {
    "application/vnd.databricks.v1+cell": {
     "cellMetadata": {},
     "inputWidgets": {},
     "nuid": "34abf302-f545-4b87-a82b-3d77b726bb48",
     "showTitle": false,
     "title": ""
    }
   },
   "outputs": [],
   "source": []
  }
 ],
 "metadata": {
  "application/vnd.databricks.v1+notebook": {
   "dashboards": [],
   "language": "python",
   "notebookMetadata": {
    "pythonIndentUnit": 4
   },
   "notebookName": "Python_101",
   "widgets": {}
  }
 },
 "nbformat": 4,
 "nbformat_minor": 0
}
